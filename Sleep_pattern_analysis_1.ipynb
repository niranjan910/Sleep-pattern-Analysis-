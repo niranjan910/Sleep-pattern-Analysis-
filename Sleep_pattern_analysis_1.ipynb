{
 "cells": [
  {
   "cell_type": "markdown",
   "id": "ec7b43ef-e06e-48ca-841e-c27a387af141",
   "metadata": {},
   "source": [
    "## Sleep Pattern Analysis \n",
    "### *Business Problem*\n",
    "- How can we identify the key factors that affect sleep quality and duration to help people improve their sleep and overall health?\n",
    "- Healthcare  companies (recommended sleep improvements plans)\n",
    "- Fitness/wellness apps (eg - Fitbit, WHOOP)\n",
    "- Insurance Providers (assessing health risk)\n",
    "\n",
    "### *Project Objective*\n",
    "*To analyse sleep data to discover patterns and relationships between sleep quality and factors such as scrren time, exercise, caffine intake, stress levels and lifestyle habits.*\n",
    "\n",
    "### *Project Overview*\n",
    "This Project aims to perform an end to end data analytics process using the Sleep Patterns Dataset. The key steps include:\n",
    "- Cleaning and preparing the data\n",
    "- Performing exploratory data analysis (EDA)\n",
    "- Identifying significant factors influencing sleep duration and quality\n",
    "- Generating insights that could support health and wellness recommendations"
   ]
  },
  {
   "cell_type": "markdown",
   "id": "815d3fe9-c01e-4b43-a734-465d449ac83c",
   "metadata": {},
   "source": [
    "### *Import the Libraries*"
   ]
  },
  {
   "cell_type": "code",
   "execution_count": 1,
   "id": "04e0a8e2-8302-4a89-909a-54477382bb0b",
   "metadata": {},
   "outputs": [],
   "source": [
    "import pandas as pd\n",
    "import numpy as np\n",
    "import matplotlib.pyplot as plt\n",
    "import seaborn as sns\n",
    "sns.set_style(\"whitegrid\")\n",
    "import warnings \n",
    "warnings.filterwarnings(\"ignore\")"
   ]
  },
  {
   "cell_type": "markdown",
   "id": "2232d70c-1d4c-4175-8a79-c937117ed689",
   "metadata": {},
   "source": [
    "### *Data Exploration*"
   ]
  },
  {
   "cell_type": "code",
   "execution_count": 2,
   "id": "617ed58c-f859-4c9c-be54-471bbe95f3bc",
   "metadata": {},
   "outputs": [],
   "source": [
    "df = pd.read_csv(\"sleep_data.csv\")"
   ]
  },
  {
   "cell_type": "code",
   "execution_count": 3,
   "id": "7210bc27-8846-4d3a-839f-c49b7b6c1702",
   "metadata": {},
   "outputs": [
    {
     "data": {
      "text/html": [
       "<div>\n",
       "<style scoped>\n",
       "    .dataframe tbody tr th:only-of-type {\n",
       "        vertical-align: middle;\n",
       "    }\n",
       "\n",
       "    .dataframe tbody tr th {\n",
       "        vertical-align: top;\n",
       "    }\n",
       "\n",
       "    .dataframe thead th {\n",
       "        text-align: right;\n",
       "    }\n",
       "</style>\n",
       "<table border=\"1\" class=\"dataframe\">\n",
       "  <thead>\n",
       "    <tr style=\"text-align: right;\">\n",
       "      <th></th>\n",
       "      <th>age</th>\n",
       "      <th>black</th>\n",
       "      <th>case</th>\n",
       "      <th>clerical</th>\n",
       "      <th>construc</th>\n",
       "      <th>educ</th>\n",
       "      <th>earns74</th>\n",
       "      <th>gdhlth</th>\n",
       "      <th>inlf</th>\n",
       "      <th>leis1</th>\n",
       "      <th>...</th>\n",
       "      <th>spwrk75</th>\n",
       "      <th>totwrk</th>\n",
       "      <th>union</th>\n",
       "      <th>worknrm</th>\n",
       "      <th>workscnd</th>\n",
       "      <th>exper</th>\n",
       "      <th>yngkid</th>\n",
       "      <th>yrsmarr</th>\n",
       "      <th>hrwage</th>\n",
       "      <th>agesq</th>\n",
       "    </tr>\n",
       "  </thead>\n",
       "  <tbody>\n",
       "    <tr>\n",
       "      <th>0</th>\n",
       "      <td>32</td>\n",
       "      <td>0</td>\n",
       "      <td>1</td>\n",
       "      <td>0.0</td>\n",
       "      <td>0.0</td>\n",
       "      <td>12</td>\n",
       "      <td>0</td>\n",
       "      <td>0</td>\n",
       "      <td>1</td>\n",
       "      <td>3529</td>\n",
       "      <td>...</td>\n",
       "      <td>0</td>\n",
       "      <td>3438</td>\n",
       "      <td>0</td>\n",
       "      <td>3438</td>\n",
       "      <td>0</td>\n",
       "      <td>14</td>\n",
       "      <td>0</td>\n",
       "      <td>13</td>\n",
       "      <td>7.070004</td>\n",
       "      <td>1024</td>\n",
       "    </tr>\n",
       "    <tr>\n",
       "      <th>1</th>\n",
       "      <td>31</td>\n",
       "      <td>0</td>\n",
       "      <td>2</td>\n",
       "      <td>0.0</td>\n",
       "      <td>0.0</td>\n",
       "      <td>14</td>\n",
       "      <td>9500</td>\n",
       "      <td>1</td>\n",
       "      <td>1</td>\n",
       "      <td>2140</td>\n",
       "      <td>...</td>\n",
       "      <td>0</td>\n",
       "      <td>5020</td>\n",
       "      <td>0</td>\n",
       "      <td>5020</td>\n",
       "      <td>0</td>\n",
       "      <td>11</td>\n",
       "      <td>0</td>\n",
       "      <td>0</td>\n",
       "      <td>1.429999</td>\n",
       "      <td>961</td>\n",
       "    </tr>\n",
       "    <tr>\n",
       "      <th>2</th>\n",
       "      <td>44</td>\n",
       "      <td>0</td>\n",
       "      <td>3</td>\n",
       "      <td>0.0</td>\n",
       "      <td>0.0</td>\n",
       "      <td>17</td>\n",
       "      <td>42500</td>\n",
       "      <td>1</td>\n",
       "      <td>1</td>\n",
       "      <td>4595</td>\n",
       "      <td>...</td>\n",
       "      <td>1</td>\n",
       "      <td>2815</td>\n",
       "      <td>0</td>\n",
       "      <td>2815</td>\n",
       "      <td>0</td>\n",
       "      <td>21</td>\n",
       "      <td>0</td>\n",
       "      <td>0</td>\n",
       "      <td>20.530000</td>\n",
       "      <td>1936</td>\n",
       "    </tr>\n",
       "    <tr>\n",
       "      <th>3</th>\n",
       "      <td>30</td>\n",
       "      <td>0</td>\n",
       "      <td>4</td>\n",
       "      <td>0.0</td>\n",
       "      <td>0.0</td>\n",
       "      <td>12</td>\n",
       "      <td>42500</td>\n",
       "      <td>1</td>\n",
       "      <td>1</td>\n",
       "      <td>3211</td>\n",
       "      <td>...</td>\n",
       "      <td>1</td>\n",
       "      <td>3786</td>\n",
       "      <td>0</td>\n",
       "      <td>3786</td>\n",
       "      <td>0</td>\n",
       "      <td>12</td>\n",
       "      <td>0</td>\n",
       "      <td>12</td>\n",
       "      <td>9.619998</td>\n",
       "      <td>900</td>\n",
       "    </tr>\n",
       "    <tr>\n",
       "      <th>4</th>\n",
       "      <td>64</td>\n",
       "      <td>0</td>\n",
       "      <td>5</td>\n",
       "      <td>0.0</td>\n",
       "      <td>0.0</td>\n",
       "      <td>14</td>\n",
       "      <td>2500</td>\n",
       "      <td>1</td>\n",
       "      <td>1</td>\n",
       "      <td>4052</td>\n",
       "      <td>...</td>\n",
       "      <td>1</td>\n",
       "      <td>2580</td>\n",
       "      <td>0</td>\n",
       "      <td>2580</td>\n",
       "      <td>0</td>\n",
       "      <td>44</td>\n",
       "      <td>0</td>\n",
       "      <td>33</td>\n",
       "      <td>2.750000</td>\n",
       "      <td>4096</td>\n",
       "    </tr>\n",
       "  </tbody>\n",
       "</table>\n",
       "<p>5 rows × 34 columns</p>\n",
       "</div>"
      ],
      "text/plain": [
       "   age  black  case  clerical  construc  educ  earns74  gdhlth  inlf  leis1  \\\n",
       "0   32      0     1       0.0       0.0    12        0       0     1   3529   \n",
       "1   31      0     2       0.0       0.0    14     9500       1     1   2140   \n",
       "2   44      0     3       0.0       0.0    17    42500       1     1   4595   \n",
       "3   30      0     4       0.0       0.0    12    42500       1     1   3211   \n",
       "4   64      0     5       0.0       0.0    14     2500       1     1   4052   \n",
       "\n",
       "   ...  spwrk75  totwrk  union  worknrm  workscnd  exper  yngkid  yrsmarr  \\\n",
       "0  ...        0    3438      0     3438         0     14       0       13   \n",
       "1  ...        0    5020      0     5020         0     11       0        0   \n",
       "2  ...        1    2815      0     2815         0     21       0        0   \n",
       "3  ...        1    3786      0     3786         0     12       0       12   \n",
       "4  ...        1    2580      0     2580         0     44       0       33   \n",
       "\n",
       "      hrwage  agesq  \n",
       "0   7.070004   1024  \n",
       "1   1.429999    961  \n",
       "2  20.530000   1936  \n",
       "3   9.619998    900  \n",
       "4   2.750000   4096  \n",
       "\n",
       "[5 rows x 34 columns]"
      ]
     },
     "execution_count": 3,
     "metadata": {},
     "output_type": "execute_result"
    }
   ],
   "source": [
    "df.head()"
   ]
  },
  {
   "cell_type": "code",
   "execution_count": 4,
   "id": "f77cf261-35a9-4303-a52a-28035764bae8",
   "metadata": {},
   "outputs": [
    {
     "data": {
      "text/plain": [
       "['age',\n",
       " 'black',\n",
       " 'case',\n",
       " 'clerical',\n",
       " 'construc',\n",
       " 'educ',\n",
       " 'earns74',\n",
       " 'gdhlth',\n",
       " 'inlf',\n",
       " 'leis1',\n",
       " 'leis2',\n",
       " 'leis3',\n",
       " 'smsa',\n",
       " 'lhrwage',\n",
       " 'lothinc',\n",
       " 'male',\n",
       " 'marr',\n",
       " 'prot',\n",
       " 'rlxall',\n",
       " 'selfe',\n",
       " 'sleep',\n",
       " 'slpnaps',\n",
       " 'south',\n",
       " 'spsepay',\n",
       " 'spwrk75',\n",
       " 'totwrk',\n",
       " 'union',\n",
       " 'worknrm',\n",
       " 'workscnd',\n",
       " 'exper',\n",
       " 'yngkid',\n",
       " 'yrsmarr',\n",
       " 'hrwage',\n",
       " 'agesq']"
      ]
     },
     "execution_count": 4,
     "metadata": {},
     "output_type": "execute_result"
    }
   ],
   "source": [
    "df.columns.tolist()"
   ]
  },
  {
   "cell_type": "code",
   "execution_count": 5,
   "id": "f74d64e1-6a01-4ebb-9960-7cf52ae9d349",
   "metadata": {},
   "outputs": [
    {
     "data": {
      "text/plain": [
       "(706, 34)"
      ]
     },
     "execution_count": 5,
     "metadata": {},
     "output_type": "execute_result"
    }
   ],
   "source": [
    "df.shape"
   ]
  },
  {
   "cell_type": "code",
   "execution_count": 6,
   "id": "9be50232-ad0c-4c2e-a381-959d9304f9ba",
   "metadata": {},
   "outputs": [
    {
     "name": "stdout",
     "output_type": "stream",
     "text": [
      "<class 'pandas.core.frame.DataFrame'>\n",
      "RangeIndex: 706 entries, 0 to 705\n",
      "Data columns (total 34 columns):\n",
      " #   Column    Non-Null Count  Dtype  \n",
      "---  ------    --------------  -----  \n",
      " 0   age       706 non-null    int64  \n",
      " 1   black     706 non-null    int64  \n",
      " 2   case      706 non-null    int64  \n",
      " 3   clerical  706 non-null    float64\n",
      " 4   construc  706 non-null    float64\n",
      " 5   educ      706 non-null    int64  \n",
      " 6   earns74   706 non-null    int64  \n",
      " 7   gdhlth    706 non-null    int64  \n",
      " 8   inlf      706 non-null    int64  \n",
      " 9   leis1     706 non-null    int64  \n",
      " 10  leis2     706 non-null    int64  \n",
      " 11  leis3     706 non-null    int64  \n",
      " 12  smsa      706 non-null    int64  \n",
      " 13  lhrwage   532 non-null    float64\n",
      " 14  lothinc   706 non-null    float64\n",
      " 15  male      706 non-null    int64  \n",
      " 16  marr      706 non-null    int64  \n",
      " 17  prot      706 non-null    int64  \n",
      " 18  rlxall    706 non-null    int64  \n",
      " 19  selfe     706 non-null    int64  \n",
      " 20  sleep     706 non-null    int64  \n",
      " 21  slpnaps   706 non-null    int64  \n",
      " 22  south     706 non-null    int64  \n",
      " 23  spsepay   706 non-null    int64  \n",
      " 24  spwrk75   706 non-null    int64  \n",
      " 25  totwrk    706 non-null    int64  \n",
      " 26  union     706 non-null    int64  \n",
      " 27  worknrm   706 non-null    int64  \n",
      " 28  workscnd  706 non-null    int64  \n",
      " 29  exper     706 non-null    int64  \n",
      " 30  yngkid    706 non-null    int64  \n",
      " 31  yrsmarr   706 non-null    int64  \n",
      " 32  hrwage    532 non-null    float64\n",
      " 33  agesq     706 non-null    int64  \n",
      "dtypes: float64(5), int64(29)\n",
      "memory usage: 187.7 KB\n"
     ]
    }
   ],
   "source": [
    "df.info()"
   ]
  },
  {
   "cell_type": "code",
   "execution_count": 7,
   "id": "05364491-1d8c-4a18-bd5e-18ff96bd0aaf",
   "metadata": {},
   "outputs": [
    {
     "data": {
      "text/html": [
       "<div>\n",
       "<style scoped>\n",
       "    .dataframe tbody tr th:only-of-type {\n",
       "        vertical-align: middle;\n",
       "    }\n",
       "\n",
       "    .dataframe tbody tr th {\n",
       "        vertical-align: top;\n",
       "    }\n",
       "\n",
       "    .dataframe thead th {\n",
       "        text-align: right;\n",
       "    }\n",
       "</style>\n",
       "<table border=\"1\" class=\"dataframe\">\n",
       "  <thead>\n",
       "    <tr style=\"text-align: right;\">\n",
       "      <th></th>\n",
       "      <th>age</th>\n",
       "      <th>black</th>\n",
       "      <th>case</th>\n",
       "      <th>clerical</th>\n",
       "      <th>construc</th>\n",
       "      <th>educ</th>\n",
       "      <th>earns74</th>\n",
       "      <th>gdhlth</th>\n",
       "      <th>inlf</th>\n",
       "      <th>leis1</th>\n",
       "      <th>...</th>\n",
       "      <th>spwrk75</th>\n",
       "      <th>totwrk</th>\n",
       "      <th>union</th>\n",
       "      <th>worknrm</th>\n",
       "      <th>workscnd</th>\n",
       "      <th>exper</th>\n",
       "      <th>yngkid</th>\n",
       "      <th>yrsmarr</th>\n",
       "      <th>hrwage</th>\n",
       "      <th>agesq</th>\n",
       "    </tr>\n",
       "  </thead>\n",
       "  <tbody>\n",
       "    <tr>\n",
       "      <th>count</th>\n",
       "      <td>706.000000</td>\n",
       "      <td>706.000000</td>\n",
       "      <td>706.000000</td>\n",
       "      <td>706.000000</td>\n",
       "      <td>706.000000</td>\n",
       "      <td>706.000000</td>\n",
       "      <td>706.000000</td>\n",
       "      <td>706.000000</td>\n",
       "      <td>706.000000</td>\n",
       "      <td>706.000000</td>\n",
       "      <td>...</td>\n",
       "      <td>706.000000</td>\n",
       "      <td>706.000000</td>\n",
       "      <td>706.000000</td>\n",
       "      <td>706.000000</td>\n",
       "      <td>706.000000</td>\n",
       "      <td>706.000000</td>\n",
       "      <td>706.000000</td>\n",
       "      <td>706.000000</td>\n",
       "      <td>532.000000</td>\n",
       "      <td>706.000000</td>\n",
       "    </tr>\n",
       "    <tr>\n",
       "      <th>mean</th>\n",
       "      <td>38.815864</td>\n",
       "      <td>0.049575</td>\n",
       "      <td>353.500000</td>\n",
       "      <td>0.182331</td>\n",
       "      <td>0.030075</td>\n",
       "      <td>12.780453</td>\n",
       "      <td>9767.705382</td>\n",
       "      <td>0.890935</td>\n",
       "      <td>0.753541</td>\n",
       "      <td>4690.723796</td>\n",
       "      <td>...</td>\n",
       "      <td>0.480170</td>\n",
       "      <td>2122.920680</td>\n",
       "      <td>0.218130</td>\n",
       "      <td>2093.252125</td>\n",
       "      <td>29.668555</td>\n",
       "      <td>20.035411</td>\n",
       "      <td>0.128895</td>\n",
       "      <td>11.769122</td>\n",
       "      <td>5.082839</td>\n",
       "      <td>1635.144476</td>\n",
       "    </tr>\n",
       "    <tr>\n",
       "      <th>std</th>\n",
       "      <td>11.342637</td>\n",
       "      <td>0.217219</td>\n",
       "      <td>203.948932</td>\n",
       "      <td>0.335413</td>\n",
       "      <td>0.148366</td>\n",
       "      <td>2.784702</td>\n",
       "      <td>9323.588151</td>\n",
       "      <td>0.311942</td>\n",
       "      <td>0.431254</td>\n",
       "      <td>908.049561</td>\n",
       "      <td>...</td>\n",
       "      <td>0.499961</td>\n",
       "      <td>947.470123</td>\n",
       "      <td>0.413269</td>\n",
       "      <td>945.301457</td>\n",
       "      <td>148.834262</td>\n",
       "      <td>12.377520</td>\n",
       "      <td>0.335321</td>\n",
       "      <td>11.591227</td>\n",
       "      <td>3.704385</td>\n",
       "      <td>950.102976</td>\n",
       "    </tr>\n",
       "    <tr>\n",
       "      <th>min</th>\n",
       "      <td>23.000000</td>\n",
       "      <td>0.000000</td>\n",
       "      <td>1.000000</td>\n",
       "      <td>0.000000</td>\n",
       "      <td>0.000000</td>\n",
       "      <td>1.000000</td>\n",
       "      <td>0.000000</td>\n",
       "      <td>0.000000</td>\n",
       "      <td>0.000000</td>\n",
       "      <td>1745.000000</td>\n",
       "      <td>...</td>\n",
       "      <td>0.000000</td>\n",
       "      <td>0.000000</td>\n",
       "      <td>0.000000</td>\n",
       "      <td>0.000000</td>\n",
       "      <td>0.000000</td>\n",
       "      <td>0.000000</td>\n",
       "      <td>0.000000</td>\n",
       "      <td>0.000000</td>\n",
       "      <td>0.350000</td>\n",
       "      <td>529.000000</td>\n",
       "    </tr>\n",
       "    <tr>\n",
       "      <th>25%</th>\n",
       "      <td>29.000000</td>\n",
       "      <td>0.000000</td>\n",
       "      <td>177.250000</td>\n",
       "      <td>0.000000</td>\n",
       "      <td>0.000000</td>\n",
       "      <td>12.000000</td>\n",
       "      <td>2500.000000</td>\n",
       "      <td>1.000000</td>\n",
       "      <td>1.000000</td>\n",
       "      <td>4109.750000</td>\n",
       "      <td>...</td>\n",
       "      <td>0.000000</td>\n",
       "      <td>1553.500000</td>\n",
       "      <td>0.000000</td>\n",
       "      <td>1538.000000</td>\n",
       "      <td>0.000000</td>\n",
       "      <td>10.000000</td>\n",
       "      <td>0.000000</td>\n",
       "      <td>0.000000</td>\n",
       "      <td>2.890002</td>\n",
       "      <td>841.000000</td>\n",
       "    </tr>\n",
       "    <tr>\n",
       "      <th>50%</th>\n",
       "      <td>36.000000</td>\n",
       "      <td>0.000000</td>\n",
       "      <td>353.500000</td>\n",
       "      <td>0.000000</td>\n",
       "      <td>0.000000</td>\n",
       "      <td>12.000000</td>\n",
       "      <td>8250.000000</td>\n",
       "      <td>1.000000</td>\n",
       "      <td>1.000000</td>\n",
       "      <td>4620.000000</td>\n",
       "      <td>...</td>\n",
       "      <td>0.000000</td>\n",
       "      <td>2288.000000</td>\n",
       "      <td>0.000000</td>\n",
       "      <td>2275.000000</td>\n",
       "      <td>0.000000</td>\n",
       "      <td>17.000000</td>\n",
       "      <td>0.000000</td>\n",
       "      <td>9.000000</td>\n",
       "      <td>4.380000</td>\n",
       "      <td>1296.000000</td>\n",
       "    </tr>\n",
       "    <tr>\n",
       "      <th>75%</th>\n",
       "      <td>48.000000</td>\n",
       "      <td>0.000000</td>\n",
       "      <td>529.750000</td>\n",
       "      <td>0.182331</td>\n",
       "      <td>0.030075</td>\n",
       "      <td>16.000000</td>\n",
       "      <td>13750.000000</td>\n",
       "      <td>1.000000</td>\n",
       "      <td>1.000000</td>\n",
       "      <td>5203.750000</td>\n",
       "      <td>...</td>\n",
       "      <td>1.000000</td>\n",
       "      <td>2691.750000</td>\n",
       "      <td>0.000000</td>\n",
       "      <td>2635.500000</td>\n",
       "      <td>0.000000</td>\n",
       "      <td>30.000000</td>\n",
       "      <td>0.000000</td>\n",
       "      <td>20.000000</td>\n",
       "      <td>6.210001</td>\n",
       "      <td>2304.000000</td>\n",
       "    </tr>\n",
       "    <tr>\n",
       "      <th>max</th>\n",
       "      <td>65.000000</td>\n",
       "      <td>1.000000</td>\n",
       "      <td>706.000000</td>\n",
       "      <td>1.000000</td>\n",
       "      <td>1.000000</td>\n",
       "      <td>17.000000</td>\n",
       "      <td>42500.000000</td>\n",
       "      <td>1.000000</td>\n",
       "      <td>1.000000</td>\n",
       "      <td>7417.000000</td>\n",
       "      <td>...</td>\n",
       "      <td>1.000000</td>\n",
       "      <td>6415.000000</td>\n",
       "      <td>1.000000</td>\n",
       "      <td>6415.000000</td>\n",
       "      <td>1337.000000</td>\n",
       "      <td>55.000000</td>\n",
       "      <td>1.000000</td>\n",
       "      <td>43.000000</td>\n",
       "      <td>35.509990</td>\n",
       "      <td>4225.000000</td>\n",
       "    </tr>\n",
       "  </tbody>\n",
       "</table>\n",
       "<p>8 rows × 34 columns</p>\n",
       "</div>"
      ],
      "text/plain": [
       "              age       black        case    clerical    construc        educ  \\\n",
       "count  706.000000  706.000000  706.000000  706.000000  706.000000  706.000000   \n",
       "mean    38.815864    0.049575  353.500000    0.182331    0.030075   12.780453   \n",
       "std     11.342637    0.217219  203.948932    0.335413    0.148366    2.784702   \n",
       "min     23.000000    0.000000    1.000000    0.000000    0.000000    1.000000   \n",
       "25%     29.000000    0.000000  177.250000    0.000000    0.000000   12.000000   \n",
       "50%     36.000000    0.000000  353.500000    0.000000    0.000000   12.000000   \n",
       "75%     48.000000    0.000000  529.750000    0.182331    0.030075   16.000000   \n",
       "max     65.000000    1.000000  706.000000    1.000000    1.000000   17.000000   \n",
       "\n",
       "            earns74      gdhlth        inlf        leis1  ...     spwrk75  \\\n",
       "count    706.000000  706.000000  706.000000   706.000000  ...  706.000000   \n",
       "mean    9767.705382    0.890935    0.753541  4690.723796  ...    0.480170   \n",
       "std     9323.588151    0.311942    0.431254   908.049561  ...    0.499961   \n",
       "min        0.000000    0.000000    0.000000  1745.000000  ...    0.000000   \n",
       "25%     2500.000000    1.000000    1.000000  4109.750000  ...    0.000000   \n",
       "50%     8250.000000    1.000000    1.000000  4620.000000  ...    0.000000   \n",
       "75%    13750.000000    1.000000    1.000000  5203.750000  ...    1.000000   \n",
       "max    42500.000000    1.000000    1.000000  7417.000000  ...    1.000000   \n",
       "\n",
       "            totwrk       union      worknrm     workscnd       exper  \\\n",
       "count   706.000000  706.000000   706.000000   706.000000  706.000000   \n",
       "mean   2122.920680    0.218130  2093.252125    29.668555   20.035411   \n",
       "std     947.470123    0.413269   945.301457   148.834262   12.377520   \n",
       "min       0.000000    0.000000     0.000000     0.000000    0.000000   \n",
       "25%    1553.500000    0.000000  1538.000000     0.000000   10.000000   \n",
       "50%    2288.000000    0.000000  2275.000000     0.000000   17.000000   \n",
       "75%    2691.750000    0.000000  2635.500000     0.000000   30.000000   \n",
       "max    6415.000000    1.000000  6415.000000  1337.000000   55.000000   \n",
       "\n",
       "           yngkid     yrsmarr      hrwage        agesq  \n",
       "count  706.000000  706.000000  532.000000   706.000000  \n",
       "mean     0.128895   11.769122    5.082839  1635.144476  \n",
       "std      0.335321   11.591227    3.704385   950.102976  \n",
       "min      0.000000    0.000000    0.350000   529.000000  \n",
       "25%      0.000000    0.000000    2.890002   841.000000  \n",
       "50%      0.000000    9.000000    4.380000  1296.000000  \n",
       "75%      0.000000   20.000000    6.210001  2304.000000  \n",
       "max      1.000000   43.000000   35.509990  4225.000000  \n",
       "\n",
       "[8 rows x 34 columns]"
      ]
     },
     "execution_count": 7,
     "metadata": {},
     "output_type": "execute_result"
    }
   ],
   "source": [
    "df.describe()"
   ]
  },
  {
   "cell_type": "code",
   "execution_count": 8,
   "id": "f16daa9a-e660-4273-9c4d-b6a490d84835",
   "metadata": {},
   "outputs": [
    {
     "data": {
      "text/plain": [
       "age           0\n",
       "black         0\n",
       "case          0\n",
       "clerical      0\n",
       "construc      0\n",
       "educ          0\n",
       "earns74       0\n",
       "gdhlth        0\n",
       "inlf          0\n",
       "leis1         0\n",
       "leis2         0\n",
       "leis3         0\n",
       "smsa          0\n",
       "lhrwage     174\n",
       "lothinc       0\n",
       "male          0\n",
       "marr          0\n",
       "prot          0\n",
       "rlxall        0\n",
       "selfe         0\n",
       "sleep         0\n",
       "slpnaps       0\n",
       "south         0\n",
       "spsepay       0\n",
       "spwrk75       0\n",
       "totwrk        0\n",
       "union         0\n",
       "worknrm       0\n",
       "workscnd      0\n",
       "exper         0\n",
       "yngkid        0\n",
       "yrsmarr       0\n",
       "hrwage      174\n",
       "agesq         0\n",
       "dtype: int64"
      ]
     },
     "execution_count": 8,
     "metadata": {},
     "output_type": "execute_result"
    }
   ],
   "source": [
    "df.isna().sum()"
   ]
  },
  {
   "cell_type": "code",
   "execution_count": 9,
   "id": "4f1e1fc0-fb2b-4d1f-9d0d-ebde0720c8b9",
   "metadata": {},
   "outputs": [
    {
     "data": {
      "text/plain": [
       "0"
      ]
     },
     "execution_count": 9,
     "metadata": {},
     "output_type": "execute_result"
    }
   ],
   "source": [
    "df.duplicated().sum()"
   ]
  },
  {
   "cell_type": "code",
   "execution_count": 10,
   "id": "f7c7d178-782a-4678-830a-da5aa1f9273b",
   "metadata": {},
   "outputs": [
    {
     "data": {
      "text/plain": [
       "43"
      ]
     },
     "execution_count": 10,
     "metadata": {},
     "output_type": "execute_result"
    }
   ],
   "source": [
    "df[\"age\"].nunique()"
   ]
  },
  {
   "cell_type": "code",
   "execution_count": 11,
   "id": "1c9ab997-e603-4486-b620-cc0947410d98",
   "metadata": {},
   "outputs": [
    {
     "data": {
      "text/plain": [
       "age\n",
       "28    36\n",
       "32    33\n",
       "33    31\n",
       "27    27\n",
       "26    26\n",
       "24    26\n",
       "29    26\n",
       "44    26\n",
       "25    25\n",
       "31    24\n",
       "35    23\n",
       "30    22\n",
       "23    22\n",
       "39    21\n",
       "36    20\n",
       "50    18\n",
       "34    18\n",
       "37    18\n",
       "52    17\n",
       "40    16\n",
       "54    16\n",
       "56    15\n",
       "47    15\n",
       "38    14\n",
       "49    13\n",
       "45    12\n",
       "46    12\n",
       "42    12\n",
       "51    12\n",
       "43    11\n",
       "53    10\n",
       "48    10\n",
       "60    10\n",
       "58     9\n",
       "59     9\n",
       "55     9\n",
       "41     9\n",
       "62     8\n",
       "57     8\n",
       "61     6\n",
       "64     6\n",
       "65     3\n",
       "63     2\n",
       "Name: count, dtype: int64"
      ]
     },
     "execution_count": 11,
     "metadata": {},
     "output_type": "execute_result"
    }
   ],
   "source": [
    "df[\"age\"].value_counts()"
   ]
  },
  {
   "cell_type": "code",
   "execution_count": 12,
   "id": "3ee79692-2d3b-4d2d-8b82-ab4230ea7849",
   "metadata": {},
   "outputs": [
    {
     "data": {
      "text/plain": [
       "2"
      ]
     },
     "execution_count": 12,
     "metadata": {},
     "output_type": "execute_result"
    }
   ],
   "source": [
    "df[\"black\"].nunique()"
   ]
  },
  {
   "cell_type": "code",
   "execution_count": 13,
   "id": "e412669f-83f0-4f98-9e79-84c6d0f8a7af",
   "metadata": {},
   "outputs": [
    {
     "data": {
      "text/plain": [
       "black\n",
       "0    671\n",
       "1     35\n",
       "Name: count, dtype: int64"
      ]
     },
     "execution_count": 13,
     "metadata": {},
     "output_type": "execute_result"
    }
   ],
   "source": [
    "df[\"black\"].value_counts()"
   ]
  },
  {
   "cell_type": "code",
   "execution_count": 14,
   "id": "0b09d57e-4c3e-4cb0-8a0e-ad6e621975b6",
   "metadata": {},
   "outputs": [
    {
     "data": {
      "text/plain": [
       "706"
      ]
     },
     "execution_count": 14,
     "metadata": {},
     "output_type": "execute_result"
    }
   ],
   "source": [
    "df[\"case\"].nunique()"
   ]
  },
  {
   "cell_type": "code",
   "execution_count": 15,
   "id": "78950844-524e-4cd0-b29e-62250d2a7478",
   "metadata": {},
   "outputs": [
    {
     "data": {
      "text/plain": [
       "case\n",
       "1      1\n",
       "530    1\n",
       "466    1\n",
       "467    1\n",
       "468    1\n",
       "      ..\n",
       "238    1\n",
       "239    1\n",
       "240    1\n",
       "241    1\n",
       "706    1\n",
       "Name: count, Length: 706, dtype: int64"
      ]
     },
     "execution_count": 15,
     "metadata": {},
     "output_type": "execute_result"
    }
   ],
   "source": [
    "df[\"case\"].value_counts()"
   ]
  },
  {
   "cell_type": "code",
   "execution_count": 16,
   "id": "3198b13a-b4eb-446c-b555-9f238e482c7a",
   "metadata": {},
   "outputs": [
    {
     "data": {
      "text/plain": [
       "3"
      ]
     },
     "execution_count": 16,
     "metadata": {},
     "output_type": "execute_result"
    }
   ],
   "source": [
    "df[\"clerical\"].nunique()"
   ]
  },
  {
   "cell_type": "code",
   "execution_count": 17,
   "id": "34bcf4c6-1698-4f5f-8fa8-ed83db941bf4",
   "metadata": {},
   "outputs": [
    {
     "data": {
      "text/plain": [
       "clerical\n",
       "0.000000    435\n",
       "0.182331    174\n",
       "1.000000     97\n",
       "Name: count, dtype: int64"
      ]
     },
     "execution_count": 17,
     "metadata": {},
     "output_type": "execute_result"
    }
   ],
   "source": [
    "df[\"clerical\"].value_counts()"
   ]
  },
  {
   "cell_type": "code",
   "execution_count": 18,
   "id": "ecced2f4-54bb-4f61-9ccc-d008b63112f7",
   "metadata": {},
   "outputs": [
    {
     "data": {
      "text/plain": [
       "3"
      ]
     },
     "execution_count": 18,
     "metadata": {},
     "output_type": "execute_result"
    }
   ],
   "source": [
    "df[\"construc\"].nunique()"
   ]
  },
  {
   "cell_type": "code",
   "execution_count": 19,
   "id": "123e6ab7-22e7-4bfe-bdbf-8f8a9b9b24c1",
   "metadata": {},
   "outputs": [
    {
     "data": {
      "text/plain": [
       "construc\n",
       "0.000000    516\n",
       "0.030075    174\n",
       "1.000000     16\n",
       "Name: count, dtype: int64"
      ]
     },
     "execution_count": 19,
     "metadata": {},
     "output_type": "execute_result"
    }
   ],
   "source": [
    "df[\"construc\"].value_counts()"
   ]
  },
  {
   "cell_type": "code",
   "execution_count": 20,
   "id": "b2c9bcd1-5b29-4162-8e8b-709d47e8c8fe",
   "metadata": {},
   "outputs": [
    {
     "data": {
      "text/plain": [
       "15"
      ]
     },
     "execution_count": 20,
     "metadata": {},
     "output_type": "execute_result"
    }
   ],
   "source": [
    "df[\"educ\"].nunique()"
   ]
  },
  {
   "cell_type": "code",
   "execution_count": 21,
   "id": "0498e961-5d00-4c6c-992e-cc3cc8f78ca1",
   "metadata": {},
   "outputs": [
    {
     "data": {
      "text/plain": [
       "educ\n",
       "12    282\n",
       "16     96\n",
       "17     84\n",
       "14     49\n",
       "8      38\n",
       "10     34\n",
       "13     32\n",
       "11     31\n",
       "15     20\n",
       "9      19\n",
       "5       8\n",
       "7       6\n",
       "6       5\n",
       "4       1\n",
       "1       1\n",
       "Name: count, dtype: int64"
      ]
     },
     "execution_count": 21,
     "metadata": {},
     "output_type": "execute_result"
    }
   ],
   "source": [
    "df[\"educ\"].value_counts()"
   ]
  },
  {
   "cell_type": "code",
   "execution_count": 22,
   "id": "07496a63-11c5-4f8f-b520-26d9e726ea9e",
   "metadata": {},
   "outputs": [
    {
     "data": {
      "text/plain": [
       "19"
      ]
     },
     "execution_count": 22,
     "metadata": {},
     "output_type": "execute_result"
    }
   ],
   "source": [
    "df[\"earns74\"].nunique()"
   ]
  },
  {
   "cell_type": "code",
   "execution_count": 23,
   "id": "c3f388dc-b042-4fa3-9ad8-fbfd779159a3",
   "metadata": {},
   "outputs": [
    {
     "data": {
      "text/plain": [
       "earns74\n",
       "0        110\n",
       "13750     80\n",
       "6750      55\n",
       "8250      50\n",
       "16250     46\n",
       "1000      41\n",
       "9500      40\n",
       "10500     37\n",
       "2500      34\n",
       "4500      33\n",
       "5500      32\n",
       "11750     31\n",
       "18750     30\n",
       "42500     25\n",
       "3500      24\n",
       "21250     15\n",
       "27500     10\n",
       "32500      8\n",
       "23750      5\n",
       "Name: count, dtype: int64"
      ]
     },
     "execution_count": 23,
     "metadata": {},
     "output_type": "execute_result"
    }
   ],
   "source": [
    "df[\"earns74\"].value_counts()"
   ]
  },
  {
   "cell_type": "code",
   "execution_count": 24,
   "id": "3a973b70-dd5b-4705-9a83-041dc751ed5d",
   "metadata": {},
   "outputs": [
    {
     "data": {
      "text/plain": [
       "2"
      ]
     },
     "execution_count": 24,
     "metadata": {},
     "output_type": "execute_result"
    }
   ],
   "source": [
    "df[\"gdhlth\"].nunique()"
   ]
  },
  {
   "cell_type": "code",
   "execution_count": 25,
   "id": "b4624844-2635-4239-b3c2-606135d7d887",
   "metadata": {},
   "outputs": [
    {
     "data": {
      "text/plain": [
       "gdhlth\n",
       "1    629\n",
       "0     77\n",
       "Name: count, dtype: int64"
      ]
     },
     "execution_count": 25,
     "metadata": {},
     "output_type": "execute_result"
    }
   ],
   "source": [
    "df[\"gdhlth\"].value_counts()"
   ]
  },
  {
   "cell_type": "code",
   "execution_count": 26,
   "id": "dd0f1562-4ea9-48d7-b477-5b979360987f",
   "metadata": {},
   "outputs": [
    {
     "data": {
      "text/plain": [
       "2"
      ]
     },
     "execution_count": 26,
     "metadata": {},
     "output_type": "execute_result"
    }
   ],
   "source": [
    "df[\"inlf\"].nunique()"
   ]
  },
  {
   "cell_type": "code",
   "execution_count": 27,
   "id": "420612f8-d383-4678-9a7c-d055ed91040b",
   "metadata": {},
   "outputs": [
    {
     "data": {
      "text/plain": [
       "inlf\n",
       "1    532\n",
       "0    174\n",
       "Name: count, dtype: int64"
      ]
     },
     "execution_count": 27,
     "metadata": {},
     "output_type": "execute_result"
    }
   ],
   "source": [
    "df[\"inlf\"].value_counts()"
   ]
  },
  {
   "cell_type": "code",
   "execution_count": 28,
   "id": "c1df087e-d9d9-4072-a43d-9c713bbb378b",
   "metadata": {},
   "outputs": [
    {
     "data": {
      "text/plain": [
       "590"
      ]
     },
     "execution_count": 28,
     "metadata": {},
     "output_type": "execute_result"
    }
   ],
   "source": [
    "df[\"leis1\"].nunique()"
   ]
  },
  {
   "cell_type": "code",
   "execution_count": 29,
   "id": "f6806b6e-b01d-4b23-a6ca-6943a6a81d34",
   "metadata": {},
   "outputs": [
    {
     "data": {
      "text/plain": [
       "leis1\n",
       "5387    3\n",
       "4904    3\n",
       "4112    3\n",
       "4509    3\n",
       "4594    3\n",
       "       ..\n",
       "4429    1\n",
       "6630    1\n",
       "5666    1\n",
       "4382    1\n",
       "4747    1\n",
       "Name: count, Length: 590, dtype: int64"
      ]
     },
     "execution_count": 29,
     "metadata": {},
     "output_type": "execute_result"
    }
   ],
   "source": [
    "df[\"leis1\"].value_counts()"
   ]
  },
  {
   "cell_type": "code",
   "execution_count": 30,
   "id": "16a96f19-11bb-4b36-a6f8-06d0e1efff57",
   "metadata": {},
   "outputs": [
    {
     "data": {
      "text/plain": [
       "601"
      ]
     },
     "execution_count": 30,
     "metadata": {},
     "output_type": "execute_result"
    }
   ],
   "source": [
    "df[\"leis2\"].nunique()"
   ]
  },
  {
   "cell_type": "code",
   "execution_count": 31,
   "id": "28b7e3cb-d0f8-495c-ae80-78a2819d1a66",
   "metadata": {},
   "outputs": [
    {
     "data": {
      "text/plain": [
       "leis2\n",
       "4012    4\n",
       "4302    4\n",
       "4690    3\n",
       "5747    3\n",
       "3774    3\n",
       "       ..\n",
       "4723    1\n",
       "6520    1\n",
       "4754    1\n",
       "3132    1\n",
       "5119    1\n",
       "Name: count, Length: 601, dtype: int64"
      ]
     },
     "execution_count": 31,
     "metadata": {},
     "output_type": "execute_result"
    }
   ],
   "source": [
    "df[\"leis2\"].value_counts()"
   ]
  },
  {
   "cell_type": "code",
   "execution_count": 32,
   "id": "dca5582d-5829-44e9-920d-5484e82e3c94",
   "metadata": {},
   "outputs": [
    {
     "data": {
      "text/plain": [
       "595"
      ]
     },
     "execution_count": 32,
     "metadata": {},
     "output_type": "execute_result"
    }
   ],
   "source": [
    "df[\"leis3\"].nunique()"
   ]
  },
  {
   "cell_type": "code",
   "execution_count": 33,
   "id": "ddd2c889-04b1-4ed5-8e58-c9d1df1402fb",
   "metadata": {},
   "outputs": [
    {
     "data": {
      "text/plain": [
       "leis3\n",
       "4432    4\n",
       "4519    4\n",
       "3479    3\n",
       "3739    3\n",
       "4239    3\n",
       "       ..\n",
       "3852    1\n",
       "3184    1\n",
       "5100    1\n",
       "4869    1\n",
       "5031    1\n",
       "Name: count, Length: 595, dtype: int64"
      ]
     },
     "execution_count": 33,
     "metadata": {},
     "output_type": "execute_result"
    }
   ],
   "source": [
    "df[\"leis3\"].value_counts()"
   ]
  },
  {
   "cell_type": "code",
   "execution_count": 34,
   "id": "eeb81adf-6def-49be-9e37-f1ae1068ba61",
   "metadata": {},
   "outputs": [
    {
     "data": {
      "text/plain": [
       "2"
      ]
     },
     "execution_count": 34,
     "metadata": {},
     "output_type": "execute_result"
    }
   ],
   "source": [
    "df[\"smsa\"].nunique()"
   ]
  },
  {
   "cell_type": "code",
   "execution_count": 35,
   "id": "eb93a4f4-387a-4c4d-8917-6b23cd29f37c",
   "metadata": {},
   "outputs": [
    {
     "data": {
      "text/plain": [
       "smsa\n",
       "0    424\n",
       "1    282\n",
       "Name: count, dtype: int64"
      ]
     },
     "execution_count": 35,
     "metadata": {},
     "output_type": "execute_result"
    }
   ],
   "source": [
    "df[\"smsa\"].value_counts()"
   ]
  },
  {
   "cell_type": "code",
   "execution_count": 36,
   "id": "a8ec252c-747a-4429-9b9c-38aed2e64b19",
   "metadata": {},
   "outputs": [
    {
     "data": {
      "text/plain": [
       "252"
      ]
     },
     "execution_count": 36,
     "metadata": {},
     "output_type": "execute_result"
    }
   ],
   "source": [
    "df[\"lhrwage\"].nunique()"
   ]
  },
  {
   "cell_type": "code",
   "execution_count": 37,
   "id": "f4f4c3ce-59a4-4ec2-9c53-fb070d2d2b77",
   "metadata": {},
   "outputs": [
    {
     "data": {
      "text/plain": [
       "lhrwage\n",
       "1.752672    28\n",
       "1.530395    22\n",
       "1.241269    18\n",
       "0.837247    17\n",
       "1.061257    13\n",
       "            ..\n",
       "1.574847     1\n",
       "1.169381     1\n",
       "1.688249     1\n",
       "1.776646     1\n",
       "3.139400     1\n",
       "Name: count, Length: 252, dtype: int64"
      ]
     },
     "execution_count": 37,
     "metadata": {},
     "output_type": "execute_result"
    }
   ],
   "source": [
    "df[\"lhrwage\"].value_counts()"
   ]
  },
  {
   "cell_type": "code",
   "execution_count": 38,
   "id": "5a9782b6-a9b5-4501-805b-7c9d251c77d6",
   "metadata": {},
   "outputs": [
    {
     "data": {
      "text/plain": [
       "73"
      ]
     },
     "execution_count": 38,
     "metadata": {},
     "output_type": "execute_result"
    }
   ],
   "source": [
    "df[\"lothinc\"].nunique()"
   ]
  },
  {
   "cell_type": "code",
   "execution_count": 39,
   "id": "76bc803f-6ca7-4803-a85b-6ad9fad6ec73",
   "metadata": {},
   "outputs": [
    {
     "data": {
      "text/plain": [
       "lothinc\n",
       "0.000000     218\n",
       "8.517393      32\n",
       "9.528867      29\n",
       "7.824446      27\n",
       "8.922792      21\n",
       "            ... \n",
       "9.047939       1\n",
       "9.998843       1\n",
       "8.294300       1\n",
       "10.441470      1\n",
       "9.615872       1\n",
       "Name: count, Length: 73, dtype: int64"
      ]
     },
     "execution_count": 39,
     "metadata": {},
     "output_type": "execute_result"
    }
   ],
   "source": [
    "df[\"lothinc\"].value_counts()"
   ]
  },
  {
   "cell_type": "code",
   "execution_count": 40,
   "id": "be5d96ca-3d2e-4cac-8f1d-cc1d9f92d688",
   "metadata": {},
   "outputs": [
    {
     "data": {
      "text/plain": [
       "2"
      ]
     },
     "execution_count": 40,
     "metadata": {},
     "output_type": "execute_result"
    }
   ],
   "source": [
    "df[\"male\"].nunique()"
   ]
  },
  {
   "cell_type": "code",
   "execution_count": 41,
   "id": "47ae7d34-0daf-483e-b4b4-4be8fe0e8354",
   "metadata": {},
   "outputs": [
    {
     "data": {
      "text/plain": [
       "male\n",
       "1    400\n",
       "0    306\n",
       "Name: count, dtype: int64"
      ]
     },
     "execution_count": 41,
     "metadata": {},
     "output_type": "execute_result"
    }
   ],
   "source": [
    "df[\"male\"].value_counts()"
   ]
  },
  {
   "cell_type": "code",
   "execution_count": 42,
   "id": "181c62e4-f586-417d-8d70-0d9316188285",
   "metadata": {},
   "outputs": [
    {
     "data": {
      "text/plain": [
       "2"
      ]
     },
     "execution_count": 42,
     "metadata": {},
     "output_type": "execute_result"
    }
   ],
   "source": [
    "df[\"marr\"].nunique()"
   ]
  },
  {
   "cell_type": "code",
   "execution_count": 43,
   "id": "2dbc5509-01e1-4533-be60-805fc7dc37c4",
   "metadata": {},
   "outputs": [
    {
     "data": {
      "text/plain": [
       "marr\n",
       "1    580\n",
       "0    126\n",
       "Name: count, dtype: int64"
      ]
     },
     "execution_count": 43,
     "metadata": {},
     "output_type": "execute_result"
    }
   ],
   "source": [
    "df[\"marr\"].value_counts()"
   ]
  },
  {
   "cell_type": "code",
   "execution_count": 44,
   "id": "fd76a1ea-9733-4002-9fe7-d2c632d0ba43",
   "metadata": {},
   "outputs": [
    {
     "data": {
      "text/plain": [
       "2"
      ]
     },
     "execution_count": 44,
     "metadata": {},
     "output_type": "execute_result"
    }
   ],
   "source": [
    "df[\"prot\"].nunique()"
   ]
  },
  {
   "cell_type": "code",
   "execution_count": 45,
   "id": "689b8225-495a-47c8-baaf-a5b65a9ad1cc",
   "metadata": {},
   "outputs": [
    {
     "data": {
      "text/plain": [
       "prot\n",
       "1    468\n",
       "0    238\n",
       "Name: count, dtype: int64"
      ]
     },
     "execution_count": 45,
     "metadata": {},
     "output_type": "execute_result"
    }
   ],
   "source": [
    "df[\"prot\"].value_counts()"
   ]
  },
  {
   "cell_type": "code",
   "execution_count": 46,
   "id": "2e6cd916-b957-4f14-858b-3d8dda820921",
   "metadata": {},
   "outputs": [
    {
     "data": {
      "text/plain": [
       "511"
      ]
     },
     "execution_count": 46,
     "metadata": {},
     "output_type": "execute_result"
    }
   ],
   "source": [
    "df[\"rlxall\"].nunique()"
   ]
  },
  {
   "cell_type": "code",
   "execution_count": 47,
   "id": "051ff1ff-2436-4355-bfea-22387b6ff065",
   "metadata": {},
   "outputs": [
    {
     "data": {
      "text/plain": [
       "rlxall\n",
       "3533    5\n",
       "3270    5\n",
       "3298    5\n",
       "3278    4\n",
       "3730    4\n",
       "       ..\n",
       "3115    1\n",
       "3439    1\n",
       "3699    1\n",
       "3433    1\n",
       "3415    1\n",
       "Name: count, Length: 511, dtype: int64"
      ]
     },
     "execution_count": 47,
     "metadata": {},
     "output_type": "execute_result"
    }
   ],
   "source": [
    "df[\"rlxall\"].value_counts()"
   ]
  },
  {
   "cell_type": "code",
   "execution_count": 48,
   "id": "b4c9af46-1976-40ad-a5b6-6bb6facf5ee4",
   "metadata": {},
   "outputs": [
    {
     "data": {
      "text/plain": [
       "2"
      ]
     },
     "execution_count": 48,
     "metadata": {},
     "output_type": "execute_result"
    }
   ],
   "source": [
    "df[\"selfe\"].nunique()"
   ]
  },
  {
   "cell_type": "code",
   "execution_count": 49,
   "id": "192d1fd5-f32e-44bc-a79b-fb76bc4f5be1",
   "metadata": {},
   "outputs": [
    {
     "data": {
      "text/plain": [
       "selfe\n",
       "0    613\n",
       "1     93\n",
       "Name: count, dtype: int64"
      ]
     },
     "execution_count": 49,
     "metadata": {},
     "output_type": "execute_result"
    }
   ],
   "source": [
    "df[\"selfe\"].value_counts()"
   ]
  },
  {
   "cell_type": "code",
   "execution_count": 50,
   "id": "9cc5272e-2797-4bbb-8ede-a1f2f4503b88",
   "metadata": {},
   "outputs": [
    {
     "data": {
      "text/plain": [
       "449"
      ]
     },
     "execution_count": 50,
     "metadata": {},
     "output_type": "execute_result"
    }
   ],
   "source": [
    "df[\"sleep\"].nunique()"
   ]
  },
  {
   "cell_type": "code",
   "execution_count": 51,
   "id": "c93f4a91-9a9b-4fb3-9ba7-7300279e491f",
   "metadata": {},
   "outputs": [
    {
     "data": {
      "text/plain": [
       "sleep\n",
       "2985    6\n",
       "3405    6\n",
       "3308    6\n",
       "3218    6\n",
       "3150    6\n",
       "       ..\n",
       "3778    1\n",
       "3825    1\n",
       "3108    1\n",
       "3965    1\n",
       "3510    1\n",
       "Name: count, Length: 449, dtype: int64"
      ]
     },
     "execution_count": 51,
     "metadata": {},
     "output_type": "execute_result"
    }
   ],
   "source": [
    "df[\"sleep\"].value_counts()"
   ]
  },
  {
   "cell_type": "code",
   "execution_count": 52,
   "id": "95527e2d-b064-4c87-9b74-0615927b3fd9",
   "metadata": {},
   "outputs": [
    {
     "data": {
      "text/plain": [
       "490"
      ]
     },
     "execution_count": 52,
     "metadata": {},
     "output_type": "execute_result"
    }
   ],
   "source": [
    "df[\"slpnaps\"].nunique()"
   ]
  },
  {
   "cell_type": "code",
   "execution_count": 53,
   "id": "dcc13983-132f-411d-9022-a57e4e301686",
   "metadata": {},
   "outputs": [
    {
     "data": {
      "text/plain": [
       "slpnaps\n",
       "3390    5\n",
       "3330    5\n",
       "3278    5\n",
       "3650    4\n",
       "3203    4\n",
       "       ..\n",
       "3586    1\n",
       "3653    1\n",
       "3433    1\n",
       "3191    1\n",
       "3000    1\n",
       "Name: count, Length: 490, dtype: int64"
      ]
     },
     "execution_count": 53,
     "metadata": {},
     "output_type": "execute_result"
    }
   ],
   "source": [
    "df[\"slpnaps\"].value_counts()"
   ]
  },
  {
   "cell_type": "code",
   "execution_count": 54,
   "id": "338f63fe-3980-42b9-a524-ed8b887d961b",
   "metadata": {},
   "outputs": [
    {
     "data": {
      "text/plain": [
       "2"
      ]
     },
     "execution_count": 54,
     "metadata": {},
     "output_type": "execute_result"
    }
   ],
   "source": [
    "df[\"south\"].nunique()"
   ]
  },
  {
   "cell_type": "code",
   "execution_count": 55,
   "id": "c55d83db-fe56-42b4-b795-c6a4254bc251",
   "metadata": {},
   "outputs": [
    {
     "data": {
      "text/plain": [
       "south\n",
       "0    576\n",
       "1    130\n",
       "Name: count, dtype: int64"
      ]
     },
     "execution_count": 55,
     "metadata": {},
     "output_type": "execute_result"
    }
   ],
   "source": [
    "df[\"south\"].value_counts()"
   ]
  },
  {
   "cell_type": "code",
   "execution_count": 56,
   "id": "2062e61b-ccc5-4d21-bcc4-97e40567fe18",
   "metadata": {},
   "outputs": [
    {
     "data": {
      "text/plain": [
       "109"
      ]
     },
     "execution_count": 56,
     "metadata": {},
     "output_type": "execute_result"
    }
   ],
   "source": [
    "df[\"spsepay\"].nunique()"
   ]
  },
  {
   "cell_type": "code",
   "execution_count": 57,
   "id": "7555a96d-1e3c-42ab-bc74-825d2b150264",
   "metadata": {},
   "outputs": [
    {
     "data": {
      "text/plain": [
       "spsepay\n",
       "0        367\n",
       "12000     20\n",
       "6000      16\n",
       "11000     13\n",
       "9000      13\n",
       "        ... \n",
       "5600       1\n",
       "10500      1\n",
       "7950       1\n",
       "4750       1\n",
       "17500      1\n",
       "Name: count, Length: 109, dtype: int64"
      ]
     },
     "execution_count": 57,
     "metadata": {},
     "output_type": "execute_result"
    }
   ],
   "source": [
    "df[\"spsepay\"].value_counts()"
   ]
  },
  {
   "cell_type": "code",
   "execution_count": 58,
   "id": "e6b35293-3cdb-413b-8c8a-5104e52f0621",
   "metadata": {},
   "outputs": [
    {
     "data": {
      "text/plain": [
       "2"
      ]
     },
     "execution_count": 58,
     "metadata": {},
     "output_type": "execute_result"
    }
   ],
   "source": [
    "df[\"spwrk75\"].nunique()"
   ]
  },
  {
   "cell_type": "code",
   "execution_count": 59,
   "id": "47f508a0-467a-4626-a8c3-645b23e39ea2",
   "metadata": {},
   "outputs": [
    {
     "data": {
      "text/plain": [
       "spwrk75\n",
       "0    367\n",
       "1    339\n",
       "Name: count, dtype: int64"
      ]
     },
     "execution_count": 59,
     "metadata": {},
     "output_type": "execute_result"
    }
   ],
   "source": [
    "df[\"spwrk75\"].value_counts()"
   ]
  },
  {
   "cell_type": "code",
   "execution_count": 60,
   "id": "8f8164b2-a657-4222-b1f9-a614d89dcf0c",
   "metadata": {},
   "outputs": [
    {
     "data": {
      "text/plain": [
       "476"
      ]
     },
     "execution_count": 60,
     "metadata": {},
     "output_type": "execute_result"
    }
   ],
   "source": [
    "df[\"totwrk\"].nunique()"
   ]
  },
  {
   "cell_type": "code",
   "execution_count": 61,
   "id": "aa50add0-a5b0-41a6-99a0-259d7fb1ecd4",
   "metadata": {},
   "outputs": [
    {
     "data": {
      "text/plain": [
       "totwrk\n",
       "0       30\n",
       "2250     8\n",
       "2300     7\n",
       "2100     7\n",
       "2163     6\n",
       "        ..\n",
       "1075     1\n",
       "2743     1\n",
       "2592     1\n",
       "2140     1\n",
       "1961     1\n",
       "Name: count, Length: 476, dtype: int64"
      ]
     },
     "execution_count": 61,
     "metadata": {},
     "output_type": "execute_result"
    }
   ],
   "source": [
    "df[\"totwrk\"].value_counts()"
   ]
  },
  {
   "cell_type": "code",
   "execution_count": 62,
   "id": "760f4b82-7ba5-464e-892d-1f606db4f896",
   "metadata": {},
   "outputs": [
    {
     "data": {
      "text/plain": [
       "2"
      ]
     },
     "execution_count": 62,
     "metadata": {},
     "output_type": "execute_result"
    }
   ],
   "source": [
    "df[\"union\"].nunique()"
   ]
  },
  {
   "cell_type": "code",
   "execution_count": 63,
   "id": "deed02a3-497d-4f25-826c-7cdc4cba9810",
   "metadata": {},
   "outputs": [
    {
     "data": {
      "text/plain": [
       "union\n",
       "0    552\n",
       "1    154\n",
       "Name: count, dtype: int64"
      ]
     },
     "execution_count": 63,
     "metadata": {},
     "output_type": "execute_result"
    }
   ],
   "source": [
    "df[\"union\"].value_counts()"
   ]
  },
  {
   "cell_type": "code",
   "execution_count": 64,
   "id": "f6f9d340-d29e-46fd-80ed-eedbd4146d2b",
   "metadata": {},
   "outputs": [
    {
     "data": {
      "text/plain": [
       "37"
      ]
     },
     "execution_count": 64,
     "metadata": {},
     "output_type": "execute_result"
    }
   ],
   "source": [
    "df[\"workscnd\"].nunique()"
   ]
  },
  {
   "cell_type": "code",
   "execution_count": 65,
   "id": "86e3c095-0c04-48ac-a115-11a8e2c87a53",
   "metadata": {},
   "outputs": [
    {
     "data": {
      "text/plain": [
       "workscnd\n",
       "0       659\n",
       "375       3\n",
       "75        3\n",
       "210       2\n",
       "60        2\n",
       "50        2\n",
       "1050      2\n",
       "600       2\n",
       "630       2\n",
       "480       2\n",
       "825       1\n",
       "1190      1\n",
       "2         1\n",
       "63        1\n",
       "1138      1\n",
       "40        1\n",
       "300       1\n",
       "925       1\n",
       "450       1\n",
       "308       1\n",
       "117       1\n",
       "1063      1\n",
       "150       1\n",
       "238       1\n",
       "218       1\n",
       "55        1\n",
       "900       1\n",
       "1337      1\n",
       "1205      1\n",
       "390       1\n",
       "875       1\n",
       "405       1\n",
       "233       1\n",
       "38        1\n",
       "350       1\n",
       "538       1\n",
       "83        1\n",
       "Name: count, dtype: int64"
      ]
     },
     "execution_count": 65,
     "metadata": {},
     "output_type": "execute_result"
    }
   ],
   "source": [
    "df[\"workscnd\"].value_counts()"
   ]
  },
  {
   "cell_type": "code",
   "execution_count": 66,
   "id": "da649c09-cc01-47b5-85c8-e5881fcdd0e4",
   "metadata": {},
   "outputs": [
    {
     "data": {
      "text/plain": [
       "53"
      ]
     },
     "execution_count": 66,
     "metadata": {},
     "output_type": "execute_result"
    }
   ],
   "source": [
    "df[\"exper\"].nunique()"
   ]
  },
  {
   "cell_type": "code",
   "execution_count": 67,
   "id": "9307e192-1920-469a-ab26-92a02618fda9",
   "metadata": {},
   "outputs": [
    {
     "data": {
      "text/plain": [
       "exper\n",
       "10    40\n",
       "14    29\n",
       "17    28\n",
       "8     26\n",
       "11    25\n",
       "6     25\n",
       "5     24\n",
       "7     23\n",
       "13    23\n",
       "31    21\n",
       "18    21\n",
       "9     20\n",
       "22    20\n",
       "12    19\n",
       "29    19\n",
       "21    17\n",
       "34    17\n",
       "32    16\n",
       "16    15\n",
       "2     14\n",
       "26    14\n",
       "19    14\n",
       "15    14\n",
       "36    14\n",
       "37    13\n",
       "23    13\n",
       "20    13\n",
       "25    12\n",
       "30    12\n",
       "4     11\n",
       "39    10\n",
       "1     10\n",
       "24    10\n",
       "35     9\n",
       "38     8\n",
       "3      8\n",
       "42     8\n",
       "33     8\n",
       "41     8\n",
       "40     7\n",
       "27     7\n",
       "44     7\n",
       "43     7\n",
       "28     6\n",
       "48     5\n",
       "46     4\n",
       "45     3\n",
       "47     3\n",
       "52     2\n",
       "0      1\n",
       "55     1\n",
       "54     1\n",
       "49     1\n",
       "Name: count, dtype: int64"
      ]
     },
     "execution_count": 67,
     "metadata": {},
     "output_type": "execute_result"
    }
   ],
   "source": [
    "df[\"exper\"].value_counts()"
   ]
  },
  {
   "cell_type": "code",
   "execution_count": 68,
   "id": "df095b31-70a5-4a83-832a-116a4e4b1209",
   "metadata": {},
   "outputs": [
    {
     "data": {
      "text/plain": [
       "2"
      ]
     },
     "execution_count": 68,
     "metadata": {},
     "output_type": "execute_result"
    }
   ],
   "source": [
    "df[\"yngkid\"].nunique()"
   ]
  },
  {
   "cell_type": "code",
   "execution_count": 69,
   "id": "8a6917d0-6da4-4db9-b757-9ec184972c34",
   "metadata": {},
   "outputs": [
    {
     "data": {
      "text/plain": [
       "yngkid\n",
       "0    615\n",
       "1     91\n",
       "Name: count, dtype: int64"
      ]
     },
     "execution_count": 69,
     "metadata": {},
     "output_type": "execute_result"
    }
   ],
   "source": [
    "df[\"yngkid\"].value_counts()"
   ]
  },
  {
   "cell_type": "code",
   "execution_count": 70,
   "id": "df2c3d69-cede-41f1-90bb-f527cabfb8ce",
   "metadata": {},
   "outputs": [
    {
     "data": {
      "text/plain": [
       "43"
      ]
     },
     "execution_count": 70,
     "metadata": {},
     "output_type": "execute_result"
    }
   ],
   "source": [
    "df[\"yrsmarr\"].nunique()"
   ]
  },
  {
   "cell_type": "code",
   "execution_count": 71,
   "id": "cfc50846-97dd-45b1-844a-b5bbad06d4ae",
   "metadata": {},
   "outputs": [
    {
     "data": {
      "text/plain": [
       "yrsmarr\n",
       "0     191\n",
       "4      32\n",
       "5      29\n",
       "9      25\n",
       "7      24\n",
       "22     20\n",
       "10     20\n",
       "2      19\n",
       "14     18\n",
       "18     18\n",
       "6      17\n",
       "16     17\n",
       "17     16\n",
       "8      15\n",
       "15     15\n",
       "12     14\n",
       "27     14\n",
       "13     13\n",
       "3      13\n",
       "19     13\n",
       "24     12\n",
       "26     11\n",
       "23     10\n",
       "29     10\n",
       "1      10\n",
       "30      9\n",
       "11      9\n",
       "28      9\n",
       "25      9\n",
       "20      8\n",
       "32      8\n",
       "35      8\n",
       "36      7\n",
       "31      6\n",
       "38      6\n",
       "34      6\n",
       "37      5\n",
       "39      5\n",
       "33      5\n",
       "21      4\n",
       "42      2\n",
       "41      2\n",
       "43      2\n",
       "Name: count, dtype: int64"
      ]
     },
     "execution_count": 71,
     "metadata": {},
     "output_type": "execute_result"
    }
   ],
   "source": [
    "df[\"yrsmarr\"].value_counts()"
   ]
  },
  {
   "cell_type": "code",
   "execution_count": 72,
   "id": "4510f17d-2386-43fd-85e0-b2f6795165ef",
   "metadata": {},
   "outputs": [
    {
     "data": {
      "text/plain": [
       "252"
      ]
     },
     "execution_count": 72,
     "metadata": {},
     "output_type": "execute_result"
    }
   ],
   "source": [
    "df[\"hrwage\"].nunique()"
   ]
  },
  {
   "cell_type": "code",
   "execution_count": 73,
   "id": "287376b4-43e9-4dca-b601-933a3890ce5f",
   "metadata": {},
   "outputs": [
    {
     "data": {
      "text/plain": [
       "hrwage\n",
       "5.770000     28\n",
       "4.620001     22\n",
       "3.460001     18\n",
       "2.309999     17\n",
       "2.890002     13\n",
       "             ..\n",
       "4.830002      1\n",
       "3.219999      1\n",
       "5.409999      1\n",
       "5.910001      1\n",
       "23.090010     1\n",
       "Name: count, Length: 252, dtype: int64"
      ]
     },
     "execution_count": 73,
     "metadata": {},
     "output_type": "execute_result"
    }
   ],
   "source": [
    "df[\"hrwage\"].value_counts()"
   ]
  },
  {
   "cell_type": "code",
   "execution_count": 74,
   "id": "c2f9bc9d-6503-4b50-b2c2-2a5bdc14caba",
   "metadata": {},
   "outputs": [
    {
     "data": {
      "text/plain": [
       "43"
      ]
     },
     "execution_count": 74,
     "metadata": {},
     "output_type": "execute_result"
    }
   ],
   "source": [
    "df[\"agesq\"].nunique()"
   ]
  },
  {
   "cell_type": "code",
   "execution_count": 75,
   "id": "08c155e7-43d2-4858-ac18-662b43307e92",
   "metadata": {},
   "outputs": [
    {
     "data": {
      "text/plain": [
       "agesq\n",
       "784     36\n",
       "1024    33\n",
       "1089    31\n",
       "729     27\n",
       "676     26\n",
       "576     26\n",
       "841     26\n",
       "1936    26\n",
       "625     25\n",
       "961     24\n",
       "1225    23\n",
       "900     22\n",
       "529     22\n",
       "1521    21\n",
       "1296    20\n",
       "2500    18\n",
       "1156    18\n",
       "1369    18\n",
       "2704    17\n",
       "1600    16\n",
       "2916    16\n",
       "3136    15\n",
       "2209    15\n",
       "1444    14\n",
       "2401    13\n",
       "2025    12\n",
       "2116    12\n",
       "1764    12\n",
       "2601    12\n",
       "1849    11\n",
       "2809    10\n",
       "2304    10\n",
       "3600    10\n",
       "3364     9\n",
       "3481     9\n",
       "3025     9\n",
       "1681     9\n",
       "3844     8\n",
       "3249     8\n",
       "3721     6\n",
       "4096     6\n",
       "4225     3\n",
       "3969     2\n",
       "Name: count, dtype: int64"
      ]
     },
     "execution_count": 75,
     "metadata": {},
     "output_type": "execute_result"
    }
   ],
   "source": [
    "df[\"agesq\"].value_counts()"
   ]
  },
  {
   "cell_type": "markdown",
   "id": "46b14daa-4bd7-4dc8-b4fd-283adf075158",
   "metadata": {},
   "source": [
    "### *Data Cleaning*"
   ]
  },
  {
   "cell_type": "markdown",
   "id": "2e454444-e64b-49f5-8780-2873008b08eb",
   "metadata": {},
   "source": [
    "**Rename all the necessary columns**"
   ]
  },
  {
   "cell_type": "code",
   "execution_count": 76,
   "id": "7cd417d5-d2a8-4deb-a1e5-ea7337041c49",
   "metadata": {},
   "outputs": [],
   "source": [
    "df.rename(columns={'case': 'record_id'}, inplace=True)\n",
    "df.rename(columns={'clerical': 'clerical_worker'}, inplace=True)\n",
    "df.rename(columns={'construc': 'construction_Worker'}, inplace=True)\n",
    "df.rename(columns={'educ': 'education'}, inplace=True)\n",
    "df.rename(columns={'earns74': 'earns_1974'}, inplace=True)\n",
    "df.rename(columns={'gdhlth': 'good_health'}, inplace=True)\n",
    "df.rename(columns={'inlf': 'labour_force'}, inplace=True)\n",
    "df.rename(columns={'leis1': 'effeciency'}, inplace=True)\n",
    "df.rename(columns={'leis2': 'total_sleep'}, inplace=True)\n",
    "df.rename(columns={'leis3': 'free_time'}, inplace=True)\n",
    "df.rename(columns={'smsa': 'smsa_area'}, inplace=True)\n",
    "df.rename(columns={'lhrwage': 'log_hr_wage'}, inplace=True)\n",
    "df.rename(columns={'lothinc': 'log_other_income'}, inplace=True)\n",
    "df.rename(columns={'marr': 'marital_status'}, inplace=True)\n",
    "df.rename(columns={'prot': 'protestant'}, inplace=True)\n",
    "df.rename(columns={'rlxall': 'relax_time'}, inplace=True)\n",
    "df.rename(columns={'selfe': 'self_employed'}, inplace=True)\n",
    "df.rename(columns={'slpnaps': 'total_sleep_week'}, inplace=True)\n",
    "df.rename(columns={'spsepay': 'spouse_income'}, inplace=True)\n",
    "df.rename(columns={'spwrk75': 'spouse_works'}, inplace=True)\n",
    "df.rename(columns={'totwrk': 'totwrk_hr'}, inplace=True)\n",
    "df.rename(columns={'union': 'labour_union'}, inplace=True)\n",
    "df.rename(columns={'worknrm': 'main_job_wrork_time'}, inplace=True)\n",
    "df.rename(columns={'workscnd': 'Worked_second'}, inplace=True)\n",
    "df.rename(columns={'exper': 'experience'}, inplace=True)\n",
    "df.rename(columns={'yngkid': 'young_kid'}, inplace=True)\n",
    "df.rename(columns={'yrsmarr': 'years_married'}, inplace=True)\n",
    "df.rename(columns={'hrwage': 'hourly_wage'}, inplace=True)\n",
    "df.rename(columns={'agesq': 'age_squared'}, inplace=True)"
   ]
  },
  {
   "cell_type": "code",
   "execution_count": 77,
   "id": "c269d19a-de2d-4985-9881-2422eaf15b3a",
   "metadata": {},
   "outputs": [
    {
     "data": {
      "text/plain": [
       "(706, 34)"
      ]
     },
     "execution_count": 77,
     "metadata": {},
     "output_type": "execute_result"
    }
   ],
   "source": [
    "df.shape"
   ]
  },
  {
   "cell_type": "code",
   "execution_count": 78,
   "id": "8b5adb01-0c86-4b9f-852f-cbdab4406b00",
   "metadata": {},
   "outputs": [
    {
     "data": {
      "text/plain": [
       "Index(['age', 'black', 'record_id', 'clerical_worker', 'construction_Worker',\n",
       "       'education', 'earns_1974', 'good_health', 'labour_force', 'effeciency',\n",
       "       'total_sleep', 'free_time', 'smsa_area', 'log_hr_wage',\n",
       "       'log_other_income', 'male', 'marital_status', 'protestant',\n",
       "       'relax_time', 'self_employed', 'sleep', 'total_sleep_week', 'south',\n",
       "       'spouse_income', 'spouse_works', 'totwrk_hr', 'labour_union',\n",
       "       'main_job_wrork_time', 'Worked_second', 'experience', 'young_kid',\n",
       "       'years_married', 'hourly_wage', 'age_squared'],\n",
       "      dtype='object')"
      ]
     },
     "execution_count": 78,
     "metadata": {},
     "output_type": "execute_result"
    }
   ],
   "source": [
    "df.columns"
   ]
  },
  {
   "cell_type": "markdown",
   "id": "6ce55c9e-39e5-4a18-807f-b91ab0e54f66",
   "metadata": {},
   "source": [
    "**Creating a new column name nap per week in minutes**"
   ]
  },
  {
   "cell_type": "code",
   "execution_count": 79,
   "id": "71c22a68-deee-4a7a-88f0-cf8f9db59989",
   "metadata": {},
   "outputs": [],
   "source": [
    "df['nap_per_week_hour'] = df['total_sleep_week'] - df['sleep']"
   ]
  },
  {
   "cell_type": "code",
   "execution_count": 80,
   "id": "3cb2afad-e7aa-4d52-a3cc-ef768d2ba317",
   "metadata": {},
   "outputs": [
    {
     "data": {
      "text/plain": [
       "nap_per_week_hour\n",
       "0      352\n",
       "60      32\n",
       "150     23\n",
       "120     16\n",
       "90      15\n",
       "      ... \n",
       "117      1\n",
       "555      1\n",
       "338      1\n",
       "871      1\n",
       "445      1\n",
       "Name: count, Length: 143, dtype: int64"
      ]
     },
     "execution_count": 80,
     "metadata": {},
     "output_type": "execute_result"
    }
   ],
   "source": [
    "df['nap_per_week_hour'].value_counts()"
   ]
  },
  {
   "cell_type": "markdown",
   "id": "62461282-7d8e-4b64-b88c-1ee7aa1bc89e",
   "metadata": {},
   "source": [
    "**merging main_job_wrork_time & Worked_second**"
   ]
  },
  {
   "cell_type": "code",
   "execution_count": 81,
   "id": "b1c96962-bef1-4670-b13c-2eea3b94d384",
   "metadata": {},
   "outputs": [],
   "source": [
    "df[\"total_work_time\"] = df[\"main_job_wrork_time\"] + df[\"Worked_second\"]"
   ]
  },
  {
   "cell_type": "code",
   "execution_count": 82,
   "id": "51b0e844-39f7-4038-9959-cab297e6bcc1",
   "metadata": {},
   "outputs": [
    {
     "data": {
      "text/plain": [
       "(706, 36)"
      ]
     },
     "execution_count": 82,
     "metadata": {},
     "output_type": "execute_result"
    }
   ],
   "source": [
    "df.shape"
   ]
  },
  {
   "cell_type": "code",
   "execution_count": null,
   "id": "2556dcbf-3beb-49f0-ba34-e6597ba5ece7",
   "metadata": {},
   "outputs": [],
   "source": [
    "df.shape"
   ]
  },
  {
   "cell_type": "code",
   "execution_count": 86,
   "id": "7be6094e-2288-46e2-a4dd-c4265e6774fc",
   "metadata": {},
   "outputs": [
    {
     "data": {
      "text/plain": [
       "<bound method IndexOpsMixin.value_counts of 0      3529\n",
       "1      2140\n",
       "2      4595\n",
       "3      3211\n",
       "4      4052\n",
       "       ... \n",
       "701    5069\n",
       "702    5885\n",
       "703    4719\n",
       "704    5149\n",
       "705    4747\n",
       "Name: effeciency, Length: 706, dtype: int64>"
      ]
     },
     "execution_count": 86,
     "metadata": {},
     "output_type": "execute_result"
    }
   ],
   "source": [
    "df[\"effeciency\"].value_counts"
   ]
  },
  {
   "cell_type": "code",
   "execution_count": 84,
   "id": "5d693948-bbf0-4219-aaf5-401bb79cd335",
   "metadata": {},
   "outputs": [
    {
     "data": {
      "text/plain": [
       "<bound method IndexOpsMixin.value_counts of 0      3479\n",
       "1      2140\n",
       "2      4505\n",
       "3      3211\n",
       "4      4007\n",
       "       ... \n",
       "701    4669\n",
       "702    5870\n",
       "703    4719\n",
       "704    5119\n",
       "705    4302\n",
       "Name: total_sleep, Length: 706, dtype: int64>"
      ]
     },
     "execution_count": 84,
     "metadata": {},
     "output_type": "execute_result"
    }
   ],
   "source": [
    "df[\"total_sleep\"].value_counts"
   ]
  },
  {
   "cell_type": "code",
   "execution_count": 98,
   "id": "d66f94ea-284f-48a8-9fb0-708c8972bb27",
   "metadata": {},
   "outputs": [
    {
     "data": {
      "text/plain": [
       "0       50\n",
       "1        0\n",
       "2       90\n",
       "3        0\n",
       "4       45\n",
       "      ... \n",
       "701    400\n",
       "702     15\n",
       "703      0\n",
       "704     30\n",
       "705    445\n",
       "Length: 706, dtype: int64"
      ]
     },
     "execution_count": 98,
     "metadata": {},
     "output_type": "execute_result"
    }
   ],
   "source": [
    "x = df[\"effeciency\"] - df[\"total_sleep\"] \n",
    "x"
   ]
  },
  {
   "cell_type": "code",
   "execution_count": 99,
   "id": "fd802e3e-dcd0-4da5-90a2-b9a0905e7abe",
   "metadata": {},
   "outputs": [
    {
     "data": {
      "text/plain": [
       "0       50\n",
       "1        0\n",
       "2       90\n",
       "3        0\n",
       "4       45\n",
       "      ... \n",
       "701    400\n",
       "702     15\n",
       "703      0\n",
       "704     30\n",
       "705    445\n",
       "Name: nap_per_week_hour, Length: 706, dtype: int64"
      ]
     },
     "execution_count": 99,
     "metadata": {},
     "output_type": "execute_result"
    }
   ],
   "source": [
    "df[\"nap_per_week_hour\"]"
   ]
  },
  {
   "cell_type": "code",
   "execution_count": 102,
   "id": "cb153695-d6b3-42c5-9ef2-db67759ac26f",
   "metadata": {},
   "outputs": [
    {
     "data": {
      "text/plain": [
       "0      3479\n",
       "1      2140\n",
       "2      4505\n",
       "3      3211\n",
       "4      4007\n",
       "       ... \n",
       "701    4669\n",
       "702    5870\n",
       "703    4719\n",
       "704    5119\n",
       "705    4302\n",
       "Name: total_sleep, Length: 706, dtype: int64"
      ]
     },
     "execution_count": 102,
     "metadata": {},
     "output_type": "execute_result"
    }
   ],
   "source": [
    "df[\"total_sleep\"]"
   ]
  },
  {
   "cell_type": "code",
   "execution_count": 106,
   "id": "f6787759-d802-4eb8-b60a-3c11e8789f9d",
   "metadata": {},
   "outputs": [],
   "source": [
    "df.rename(columns={'effeciency': 'awake_time'}, inplace=True)"
   ]
  },
  {
   "cell_type": "markdown",
   "id": "02b1ef07-f507-4944-8a54-94aa84f16687",
   "metadata": {},
   "source": [
    "**Droping the colums which is of no use**"
   ]
  },
  {
   "cell_type": "code",
   "execution_count": 107,
   "id": "d016f56b-f664-4857-b872-c0571f5bf52e",
   "metadata": {},
   "outputs": [],
   "source": [
    "df = df.drop(columns=[\"black\"])\n",
    "df = df.drop(columns=[\"record_id\"])\n",
    "df = df.drop(columns=[\"age_squared\"])\n",
    "df = df.drop(columns=[\"total_sleep\"])\n",
    "df = df.drop(columns=[\"main_job_wrork_time\"])\n",
    "df = df.drop(columns=[\"Worked_second\"])\n",
    "df = df.drop(columns=[\"experience\"])\n",
    "df = df.drop(columns=[\"log_hr_wage\"])\n",
    "df = df.drop(columns=[\"log_other_income\"])"
   ]
  },
  {
   "cell_type": "code",
   "execution_count": 108,
   "id": "568af01a-f2a1-4e7c-b2cb-b29c7fde3670",
   "metadata": {},
   "outputs": [
    {
     "data": {
      "text/plain": [
       "['age',\n",
       " 'clerical_worker',\n",
       " 'construction_Worker',\n",
       " 'education',\n",
       " 'earns_1974',\n",
       " 'good_health',\n",
       " 'labour_force',\n",
       " 'awake_time',\n",
       " 'free_time',\n",
       " 'smsa_area',\n",
       " 'male',\n",
       " 'marital_status',\n",
       " 'protestant',\n",
       " 'relax_time',\n",
       " 'self_employed',\n",
       " 'sleep',\n",
       " 'total_sleep_week',\n",
       " 'south',\n",
       " 'spouse_income',\n",
       " 'spouse_works',\n",
       " 'totwrk_hr',\n",
       " 'labour_union',\n",
       " 'young_kid',\n",
       " 'years_married',\n",
       " 'hourly_wage',\n",
       " 'nap_per_week_hour',\n",
       " 'total_work_time']"
      ]
     },
     "execution_count": 108,
     "metadata": {},
     "output_type": "execute_result"
    }
   ],
   "source": [
    "df.columns.tolist()"
   ]
  },
  {
   "cell_type": "markdown",
   "id": "3eddace2-7cf1-4c38-8f8e-24e43d02df67",
   "metadata": {},
   "source": [
    "**Treating the wrong data type**"
   ]
  },
  {
   "cell_type": "code",
   "execution_count": 109,
   "id": "5f13ecad-e30f-41a4-a1aa-65e8d939cf24",
   "metadata": {},
   "outputs": [],
   "source": [
    "df['clerical_worker'] = df['clerical_worker'].round().astype(int)\n",
    "df['construction_Worker'] = df['clerical_worker'].round().astype(int)"
   ]
  },
  {
   "cell_type": "markdown",
   "id": "4675ad22-08e5-4438-9569-8ddd89a20b71",
   "metadata": {},
   "source": [
    "**Converting the colums with values 0 and 1 to yes and no**"
   ]
  },
  {
   "cell_type": "code",
   "execution_count": 110,
   "id": "bc15f60c-b0c4-405d-b372-54c49de8cdf4",
   "metadata": {},
   "outputs": [],
   "source": [
    "df['good_health'].replace({0: 'No', 1: 'Yes'}, inplace=True)\n",
    "df['labour_force'].replace({0: 'No', 1: 'Yes'}, inplace=True)\n",
    "df['smsa_area'].replace({0: 'No', 1: 'Yes'}, inplace=True)\n",
    "df['male'].replace({0: 'No', 1: 'Yes'}, inplace=True)\n",
    "df['marital_status'].replace({0: 'No', 1: 'Yes'}, inplace=True)\n",
    "df['protestant'].replace({0: 'No', 1: 'Yes'}, inplace=True)\n",
    "df['self_employed'].replace({0: 'No', 1: 'Yes'}, inplace=True)\n",
    "df['south'].replace({0: 'No', 1: 'Yes'}, inplace=True)\n",
    "df['spouse_works'].replace({0: 'No', 1: 'Yes'}, inplace=True)\n",
    "df['labour_union'].replace({0: 'No', 1: 'Yes'}, inplace=True)\n",
    "df['young_kid'].replace({0: 'No', 1: 'Yes'}, inplace=True) \n",
    "df['clerical_worker'].replace({0: 'No', 1: 'Yes'}, inplace=True) \n",
    "df['construction_Worker'].replace({0: 'No', 1: 'Yes'}, inplace=True) "
   ]
  },
  {
   "cell_type": "markdown",
   "id": "26307215-af87-4024-b18d-8f9ecb9a3f9c",
   "metadata": {},
   "source": [
    "**Handle the missing values**"
   ]
  },
  {
   "cell_type": "code",
   "execution_count": 111,
   "id": "8822788d-fac2-43c5-aab9-8084529da5f2",
   "metadata": {},
   "outputs": [
    {
     "data": {
      "text/plain": [
       "age                      0\n",
       "clerical_worker          0\n",
       "construction_Worker      0\n",
       "education                0\n",
       "earns_1974               0\n",
       "good_health              0\n",
       "labour_force             0\n",
       "awake_time               0\n",
       "free_time                0\n",
       "smsa_area                0\n",
       "male                     0\n",
       "marital_status           0\n",
       "protestant               0\n",
       "relax_time               0\n",
       "self_employed            0\n",
       "sleep                    0\n",
       "total_sleep_week         0\n",
       "south                    0\n",
       "spouse_income            0\n",
       "spouse_works             0\n",
       "totwrk_hr                0\n",
       "labour_union             0\n",
       "young_kid                0\n",
       "years_married            0\n",
       "hourly_wage            174\n",
       "nap_per_week_hour        0\n",
       "total_work_time          0\n",
       "dtype: int64"
      ]
     },
     "execution_count": 111,
     "metadata": {},
     "output_type": "execute_result"
    }
   ],
   "source": [
    "df.isnull().sum()"
   ]
  },
  {
   "cell_type": "code",
   "execution_count": 112,
   "id": "bf2c6ea9-891f-4935-8e2d-184ffe230a8a",
   "metadata": {},
   "outputs": [
    {
     "data": {
      "text/plain": [
       "3.363292037418263"
      ]
     },
     "execution_count": 112,
     "metadata": {},
     "output_type": "execute_result"
    }
   ],
   "source": [
    "df['hourly_wage'].skew()"
   ]
  },
  {
   "cell_type": "code",
   "execution_count": 113,
   "id": "61c5c7a9-a3f4-4425-baf5-e43387138f94",
   "metadata": {},
   "outputs": [],
   "source": [
    "df['hourly_wage'].fillna(df['hourly_wage'].median(), inplace=True)"
   ]
  },
  {
   "cell_type": "code",
   "execution_count": 114,
   "id": "21c7dad3-8ef6-4c45-87c2-2cfa38c87edf",
   "metadata": {},
   "outputs": [
    {
     "data": {
      "text/plain": [
       "age                    0\n",
       "clerical_worker        0\n",
       "construction_Worker    0\n",
       "education              0\n",
       "earns_1974             0\n",
       "good_health            0\n",
       "labour_force           0\n",
       "awake_time             0\n",
       "free_time              0\n",
       "smsa_area              0\n",
       "male                   0\n",
       "marital_status         0\n",
       "protestant             0\n",
       "relax_time             0\n",
       "self_employed          0\n",
       "sleep                  0\n",
       "total_sleep_week       0\n",
       "south                  0\n",
       "spouse_income          0\n",
       "spouse_works           0\n",
       "totwrk_hr              0\n",
       "labour_union           0\n",
       "young_kid              0\n",
       "years_married          0\n",
       "hourly_wage            0\n",
       "nap_per_week_hour      0\n",
       "total_work_time        0\n",
       "dtype: int64"
      ]
     },
     "execution_count": 114,
     "metadata": {},
     "output_type": "execute_result"
    }
   ],
   "source": [
    "df.isnull().sum()"
   ]
  },
  {
   "cell_type": "code",
   "execution_count": null,
   "id": "7f70abfe-5dfe-49ef-b42f-da4624a79c97",
   "metadata": {},
   "outputs": [],
   "source": []
  },
  {
   "cell_type": "code",
   "execution_count": null,
   "id": "cdd153c5-0f15-4630-8c2f-7158cf6c5948",
   "metadata": {},
   "outputs": [],
   "source": []
  },
  {
   "cell_type": "code",
   "execution_count": null,
   "id": "b44fa6d0-b510-4e0e-ba4e-a5dd0fa9c9ed",
   "metadata": {},
   "outputs": [],
   "source": []
  },
  {
   "cell_type": "code",
   "execution_count": null,
   "id": "b3e1a4cc-9e7b-45ed-a976-4ee5be60dcfc",
   "metadata": {},
   "outputs": [],
   "source": []
  },
  {
   "cell_type": "markdown",
   "id": "ce15d2d1-a2dd-457f-bb23-4ebe893e74ee",
   "metadata": {},
   "source": [
    "**Converting minutes to hour**"
   ]
  },
  {
   "cell_type": "code",
   "execution_count": 115,
   "id": "48631baa-5013-4785-903f-8b540aae77f9",
   "metadata": {},
   "outputs": [],
   "source": [
    "df['free_time'] = df['free_time'] / 60 \n",
    "df['relax_time'] = df['relax_time'] / 60 \n",
    "df['sleep'] = df['sleep'] / 60 \n",
    "df['total_sleep_week'] = df['total_sleep_week'] / 60 \n",
    "df['totwrk_hr'] = df['totwrk_hr'] / 60\n",
    "df['hourly_wage'] = df['hourly_wage'] / 60\n",
    "df['nap_per_week_hour'] = df['nap_per_week_hour'] / 60\n",
    "df['total_work_time'] = df['total_work_time'] / 60"
   ]
  },
  {
   "cell_type": "code",
   "execution_count": 116,
   "id": "c7534239-1a13-4043-baff-8c6857de5b3d",
   "metadata": {},
   "outputs": [],
   "source": [
    "# Exporting cleaned data for backup\n",
    "df.to_csv('cleaned_sleep_data.csv', index=False)"
   ]
  }
 ],
 "metadata": {
  "kernelspec": {
   "display_name": "Python 3 (ipykernel)",
   "language": "python",
   "name": "python3"
  },
  "language_info": {
   "codemirror_mode": {
    "name": "ipython",
    "version": 3
   },
   "file_extension": ".py",
   "mimetype": "text/x-python",
   "name": "python",
   "nbconvert_exporter": "python",
   "pygments_lexer": "ipython3",
   "version": "3.12.7"
  }
 },
 "nbformat": 4,
 "nbformat_minor": 5
}
