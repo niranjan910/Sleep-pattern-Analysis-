{
 "cells": [
  {
   "cell_type": "markdown",
   "id": "ec7b43ef-e06e-48ca-841e-c27a387af141",
   "metadata": {},
   "source": [
    "## Sleep Pattern Analysis \n",
    "### *Business Problem*\n",
    "- How can we identify the key factors that affect sleep quality and duration to help people improve their sleep and overall health?\n",
    "- Healthcare  companies (recommended sleep improvements plans)\n",
    "- Fitness/wellness apps (eg - Fitbit, WHOOP)\n",
    "- Insurance Providers (assessing health risk)\n",
    "\n",
    "### *Project Objective*\n",
    "*To analyse sleep data to discover patterns and relationships between sleep quality and factors such as scrren time, exercise, caffine intake, stress levels and lifestyle habits.*\n",
    "\n",
    "### *Project Overview*\n",
    "This Project aims to perform an end to end data analytics process using the Sleep Patterns Dataset. The key steps include:\n",
    "- Cleaning and preparing the data\n",
    "- Performing exploratory data analysis (EDA)\n",
    "- Identifying significant factors influencing sleep duration and quality\n",
    "- Generating insights that could support health and wellness recommendations"
   ]
  },
  {
   "cell_type": "markdown",
   "id": "815d3fe9-c01e-4b43-a734-465d449ac83c",
   "metadata": {},
   "source": [
    "### *Import the Libraries*"
   ]
  },
  {
   "cell_type": "code",
   "execution_count": 1,
   "id": "04e0a8e2-8302-4a89-909a-54477382bb0b",
   "metadata": {},
   "outputs": [],
   "source": [
    "import pandas as pd\n",
    "import numpy as np\n",
    "import matplotlib.pyplot as plt\n",
    "import seaborn as sns\n",
    "sns.set_style(\"whitegrid\")\n",
    "import warnings \n",
    "warnings.filterwarnings(\"ignore\")"
   ]
  },
  {
   "cell_type": "markdown",
   "id": "2232d70c-1d4c-4175-8a79-c937117ed689",
   "metadata": {},
   "source": [
    "### *Data Exploration*"
   ]
  },
  {
   "cell_type": "code",
   "execution_count": 2,
   "id": "617ed58c-f859-4c9c-be54-471bbe95f3bc",
   "metadata": {},
   "outputs": [],
   "source": [
    "df = pd.read_csv(\"sleep_data.csv\")"
   ]
  },
  {
   "cell_type": "code",
   "execution_count": 3,
   "id": "7210bc27-8846-4d3a-839f-c49b7b6c1702",
   "metadata": {},
   "outputs": [
    {
     "data": {
      "text/html": [
       "<div>\n",
       "<style scoped>\n",
       "    .dataframe tbody tr th:only-of-type {\n",
       "        vertical-align: middle;\n",
       "    }\n",
       "\n",
       "    .dataframe tbody tr th {\n",
       "        vertical-align: top;\n",
       "    }\n",
       "\n",
       "    .dataframe thead th {\n",
       "        text-align: right;\n",
       "    }\n",
       "</style>\n",
       "<table border=\"1\" class=\"dataframe\">\n",
       "  <thead>\n",
       "    <tr style=\"text-align: right;\">\n",
       "      <th></th>\n",
       "      <th>age</th>\n",
       "      <th>black</th>\n",
       "      <th>case</th>\n",
       "      <th>clerical</th>\n",
       "      <th>construc</th>\n",
       "      <th>educ</th>\n",
       "      <th>earns74</th>\n",
       "      <th>gdhlth</th>\n",
       "      <th>inlf</th>\n",
       "      <th>leis1</th>\n",
       "      <th>...</th>\n",
       "      <th>spwrk75</th>\n",
       "      <th>totwrk</th>\n",
       "      <th>union</th>\n",
       "      <th>worknrm</th>\n",
       "      <th>workscnd</th>\n",
       "      <th>exper</th>\n",
       "      <th>yngkid</th>\n",
       "      <th>yrsmarr</th>\n",
       "      <th>hrwage</th>\n",
       "      <th>agesq</th>\n",
       "    </tr>\n",
       "  </thead>\n",
       "  <tbody>\n",
       "    <tr>\n",
       "      <th>0</th>\n",
       "      <td>32</td>\n",
       "      <td>0</td>\n",
       "      <td>1</td>\n",
       "      <td>0.0</td>\n",
       "      <td>0.0</td>\n",
       "      <td>12</td>\n",
       "      <td>0</td>\n",
       "      <td>0</td>\n",
       "      <td>1</td>\n",
       "      <td>3529</td>\n",
       "      <td>...</td>\n",
       "      <td>0</td>\n",
       "      <td>3438</td>\n",
       "      <td>0</td>\n",
       "      <td>3438</td>\n",
       "      <td>0</td>\n",
       "      <td>14</td>\n",
       "      <td>0</td>\n",
       "      <td>13</td>\n",
       "      <td>7.070004</td>\n",
       "      <td>1024</td>\n",
       "    </tr>\n",
       "    <tr>\n",
       "      <th>1</th>\n",
       "      <td>31</td>\n",
       "      <td>0</td>\n",
       "      <td>2</td>\n",
       "      <td>0.0</td>\n",
       "      <td>0.0</td>\n",
       "      <td>14</td>\n",
       "      <td>9500</td>\n",
       "      <td>1</td>\n",
       "      <td>1</td>\n",
       "      <td>2140</td>\n",
       "      <td>...</td>\n",
       "      <td>0</td>\n",
       "      <td>5020</td>\n",
       "      <td>0</td>\n",
       "      <td>5020</td>\n",
       "      <td>0</td>\n",
       "      <td>11</td>\n",
       "      <td>0</td>\n",
       "      <td>0</td>\n",
       "      <td>1.429999</td>\n",
       "      <td>961</td>\n",
       "    </tr>\n",
       "    <tr>\n",
       "      <th>2</th>\n",
       "      <td>44</td>\n",
       "      <td>0</td>\n",
       "      <td>3</td>\n",
       "      <td>0.0</td>\n",
       "      <td>0.0</td>\n",
       "      <td>17</td>\n",
       "      <td>42500</td>\n",
       "      <td>1</td>\n",
       "      <td>1</td>\n",
       "      <td>4595</td>\n",
       "      <td>...</td>\n",
       "      <td>1</td>\n",
       "      <td>2815</td>\n",
       "      <td>0</td>\n",
       "      <td>2815</td>\n",
       "      <td>0</td>\n",
       "      <td>21</td>\n",
       "      <td>0</td>\n",
       "      <td>0</td>\n",
       "      <td>20.530000</td>\n",
       "      <td>1936</td>\n",
       "    </tr>\n",
       "    <tr>\n",
       "      <th>3</th>\n",
       "      <td>30</td>\n",
       "      <td>0</td>\n",
       "      <td>4</td>\n",
       "      <td>0.0</td>\n",
       "      <td>0.0</td>\n",
       "      <td>12</td>\n",
       "      <td>42500</td>\n",
       "      <td>1</td>\n",
       "      <td>1</td>\n",
       "      <td>3211</td>\n",
       "      <td>...</td>\n",
       "      <td>1</td>\n",
       "      <td>3786</td>\n",
       "      <td>0</td>\n",
       "      <td>3786</td>\n",
       "      <td>0</td>\n",
       "      <td>12</td>\n",
       "      <td>0</td>\n",
       "      <td>12</td>\n",
       "      <td>9.619998</td>\n",
       "      <td>900</td>\n",
       "    </tr>\n",
       "    <tr>\n",
       "      <th>4</th>\n",
       "      <td>64</td>\n",
       "      <td>0</td>\n",
       "      <td>5</td>\n",
       "      <td>0.0</td>\n",
       "      <td>0.0</td>\n",
       "      <td>14</td>\n",
       "      <td>2500</td>\n",
       "      <td>1</td>\n",
       "      <td>1</td>\n",
       "      <td>4052</td>\n",
       "      <td>...</td>\n",
       "      <td>1</td>\n",
       "      <td>2580</td>\n",
       "      <td>0</td>\n",
       "      <td>2580</td>\n",
       "      <td>0</td>\n",
       "      <td>44</td>\n",
       "      <td>0</td>\n",
       "      <td>33</td>\n",
       "      <td>2.750000</td>\n",
       "      <td>4096</td>\n",
       "    </tr>\n",
       "  </tbody>\n",
       "</table>\n",
       "<p>5 rows × 34 columns</p>\n",
       "</div>"
      ],
      "text/plain": [
       "   age  black  case  clerical  construc  educ  earns74  gdhlth  inlf  leis1  \\\n",
       "0   32      0     1       0.0       0.0    12        0       0     1   3529   \n",
       "1   31      0     2       0.0       0.0    14     9500       1     1   2140   \n",
       "2   44      0     3       0.0       0.0    17    42500       1     1   4595   \n",
       "3   30      0     4       0.0       0.0    12    42500       1     1   3211   \n",
       "4   64      0     5       0.0       0.0    14     2500       1     1   4052   \n",
       "\n",
       "   ...  spwrk75  totwrk  union  worknrm  workscnd  exper  yngkid  yrsmarr  \\\n",
       "0  ...        0    3438      0     3438         0     14       0       13   \n",
       "1  ...        0    5020      0     5020         0     11       0        0   \n",
       "2  ...        1    2815      0     2815         0     21       0        0   \n",
       "3  ...        1    3786      0     3786         0     12       0       12   \n",
       "4  ...        1    2580      0     2580         0     44       0       33   \n",
       "\n",
       "      hrwage  agesq  \n",
       "0   7.070004   1024  \n",
       "1   1.429999    961  \n",
       "2  20.530000   1936  \n",
       "3   9.619998    900  \n",
       "4   2.750000   4096  \n",
       "\n",
       "[5 rows x 34 columns]"
      ]
     },
     "execution_count": 3,
     "metadata": {},
     "output_type": "execute_result"
    }
   ],
   "source": [
    "df.head()"
   ]
  },
  {
   "cell_type": "code",
   "execution_count": 4,
   "id": "f77cf261-35a9-4303-a52a-28035764bae8",
   "metadata": {},
   "outputs": [
    {
     "data": {
      "text/plain": [
       "['age',\n",
       " 'black',\n",
       " 'case',\n",
       " 'clerical',\n",
       " 'construc',\n",
       " 'educ',\n",
       " 'earns74',\n",
       " 'gdhlth',\n",
       " 'inlf',\n",
       " 'leis1',\n",
       " 'leis2',\n",
       " 'leis3',\n",
       " 'smsa',\n",
       " 'lhrwage',\n",
       " 'lothinc',\n",
       " 'male',\n",
       " 'marr',\n",
       " 'prot',\n",
       " 'rlxall',\n",
       " 'selfe',\n",
       " 'sleep',\n",
       " 'slpnaps',\n",
       " 'south',\n",
       " 'spsepay',\n",
       " 'spwrk75',\n",
       " 'totwrk',\n",
       " 'union',\n",
       " 'worknrm',\n",
       " 'workscnd',\n",
       " 'exper',\n",
       " 'yngkid',\n",
       " 'yrsmarr',\n",
       " 'hrwage',\n",
       " 'agesq']"
      ]
     },
     "execution_count": 4,
     "metadata": {},
     "output_type": "execute_result"
    }
   ],
   "source": [
    "df.columns.tolist()"
   ]
  },
  {
   "cell_type": "code",
   "execution_count": 5,
   "id": "f74d64e1-6a01-4ebb-9960-7cf52ae9d349",
   "metadata": {},
   "outputs": [
    {
     "data": {
      "text/plain": [
       "(706, 34)"
      ]
     },
     "execution_count": 5,
     "metadata": {},
     "output_type": "execute_result"
    }
   ],
   "source": [
    "df.shape"
   ]
  },
  {
   "cell_type": "code",
   "execution_count": 6,
   "id": "9be50232-ad0c-4c2e-a381-959d9304f9ba",
   "metadata": {},
   "outputs": [
    {
     "name": "stdout",
     "output_type": "stream",
     "text": [
      "<class 'pandas.core.frame.DataFrame'>\n",
      "RangeIndex: 706 entries, 0 to 705\n",
      "Data columns (total 34 columns):\n",
      " #   Column    Non-Null Count  Dtype  \n",
      "---  ------    --------------  -----  \n",
      " 0   age       706 non-null    int64  \n",
      " 1   black     706 non-null    int64  \n",
      " 2   case      706 non-null    int64  \n",
      " 3   clerical  706 non-null    float64\n",
      " 4   construc  706 non-null    float64\n",
      " 5   educ      706 non-null    int64  \n",
      " 6   earns74   706 non-null    int64  \n",
      " 7   gdhlth    706 non-null    int64  \n",
      " 8   inlf      706 non-null    int64  \n",
      " 9   leis1     706 non-null    int64  \n",
      " 10  leis2     706 non-null    int64  \n",
      " 11  leis3     706 non-null    int64  \n",
      " 12  smsa      706 non-null    int64  \n",
      " 13  lhrwage   532 non-null    float64\n",
      " 14  lothinc   706 non-null    float64\n",
      " 15  male      706 non-null    int64  \n",
      " 16  marr      706 non-null    int64  \n",
      " 17  prot      706 non-null    int64  \n",
      " 18  rlxall    706 non-null    int64  \n",
      " 19  selfe     706 non-null    int64  \n",
      " 20  sleep     706 non-null    int64  \n",
      " 21  slpnaps   706 non-null    int64  \n",
      " 22  south     706 non-null    int64  \n",
      " 23  spsepay   706 non-null    int64  \n",
      " 24  spwrk75   706 non-null    int64  \n",
      " 25  totwrk    706 non-null    int64  \n",
      " 26  union     706 non-null    int64  \n",
      " 27  worknrm   706 non-null    int64  \n",
      " 28  workscnd  706 non-null    int64  \n",
      " 29  exper     706 non-null    int64  \n",
      " 30  yngkid    706 non-null    int64  \n",
      " 31  yrsmarr   706 non-null    int64  \n",
      " 32  hrwage    532 non-null    float64\n",
      " 33  agesq     706 non-null    int64  \n",
      "dtypes: float64(5), int64(29)\n",
      "memory usage: 187.7 KB\n"
     ]
    }
   ],
   "source": [
    "df.info()"
   ]
  },
  {
   "cell_type": "code",
   "execution_count": 7,
   "id": "05364491-1d8c-4a18-bd5e-18ff96bd0aaf",
   "metadata": {},
   "outputs": [
    {
     "data": {
      "text/html": [
       "<div>\n",
       "<style scoped>\n",
       "    .dataframe tbody tr th:only-of-type {\n",
       "        vertical-align: middle;\n",
       "    }\n",
       "\n",
       "    .dataframe tbody tr th {\n",
       "        vertical-align: top;\n",
       "    }\n",
       "\n",
       "    .dataframe thead th {\n",
       "        text-align: right;\n",
       "    }\n",
       "</style>\n",
       "<table border=\"1\" class=\"dataframe\">\n",
       "  <thead>\n",
       "    <tr style=\"text-align: right;\">\n",
       "      <th></th>\n",
       "      <th>age</th>\n",
       "      <th>black</th>\n",
       "      <th>case</th>\n",
       "      <th>clerical</th>\n",
       "      <th>construc</th>\n",
       "      <th>educ</th>\n",
       "      <th>earns74</th>\n",
       "      <th>gdhlth</th>\n",
       "      <th>inlf</th>\n",
       "      <th>leis1</th>\n",
       "      <th>...</th>\n",
       "      <th>spwrk75</th>\n",
       "      <th>totwrk</th>\n",
       "      <th>union</th>\n",
       "      <th>worknrm</th>\n",
       "      <th>workscnd</th>\n",
       "      <th>exper</th>\n",
       "      <th>yngkid</th>\n",
       "      <th>yrsmarr</th>\n",
       "      <th>hrwage</th>\n",
       "      <th>agesq</th>\n",
       "    </tr>\n",
       "  </thead>\n",
       "  <tbody>\n",
       "    <tr>\n",
       "      <th>count</th>\n",
       "      <td>706.000000</td>\n",
       "      <td>706.000000</td>\n",
       "      <td>706.000000</td>\n",
       "      <td>706.000000</td>\n",
       "      <td>706.000000</td>\n",
       "      <td>706.000000</td>\n",
       "      <td>706.000000</td>\n",
       "      <td>706.000000</td>\n",
       "      <td>706.000000</td>\n",
       "      <td>706.000000</td>\n",
       "      <td>...</td>\n",
       "      <td>706.000000</td>\n",
       "      <td>706.000000</td>\n",
       "      <td>706.000000</td>\n",
       "      <td>706.000000</td>\n",
       "      <td>706.000000</td>\n",
       "      <td>706.000000</td>\n",
       "      <td>706.000000</td>\n",
       "      <td>706.000000</td>\n",
       "      <td>532.000000</td>\n",
       "      <td>706.000000</td>\n",
       "    </tr>\n",
       "    <tr>\n",
       "      <th>mean</th>\n",
       "      <td>38.815864</td>\n",
       "      <td>0.049575</td>\n",
       "      <td>353.500000</td>\n",
       "      <td>0.182331</td>\n",
       "      <td>0.030075</td>\n",
       "      <td>12.780453</td>\n",
       "      <td>9767.705382</td>\n",
       "      <td>0.890935</td>\n",
       "      <td>0.753541</td>\n",
       "      <td>4690.723796</td>\n",
       "      <td>...</td>\n",
       "      <td>0.480170</td>\n",
       "      <td>2122.920680</td>\n",
       "      <td>0.218130</td>\n",
       "      <td>2093.252125</td>\n",
       "      <td>29.668555</td>\n",
       "      <td>20.035411</td>\n",
       "      <td>0.128895</td>\n",
       "      <td>11.769122</td>\n",
       "      <td>5.082839</td>\n",
       "      <td>1635.144476</td>\n",
       "    </tr>\n",
       "    <tr>\n",
       "      <th>std</th>\n",
       "      <td>11.342637</td>\n",
       "      <td>0.217219</td>\n",
       "      <td>203.948932</td>\n",
       "      <td>0.335413</td>\n",
       "      <td>0.148366</td>\n",
       "      <td>2.784702</td>\n",
       "      <td>9323.588151</td>\n",
       "      <td>0.311942</td>\n",
       "      <td>0.431254</td>\n",
       "      <td>908.049561</td>\n",
       "      <td>...</td>\n",
       "      <td>0.499961</td>\n",
       "      <td>947.470123</td>\n",
       "      <td>0.413269</td>\n",
       "      <td>945.301457</td>\n",
       "      <td>148.834262</td>\n",
       "      <td>12.377520</td>\n",
       "      <td>0.335321</td>\n",
       "      <td>11.591227</td>\n",
       "      <td>3.704385</td>\n",
       "      <td>950.102976</td>\n",
       "    </tr>\n",
       "    <tr>\n",
       "      <th>min</th>\n",
       "      <td>23.000000</td>\n",
       "      <td>0.000000</td>\n",
       "      <td>1.000000</td>\n",
       "      <td>0.000000</td>\n",
       "      <td>0.000000</td>\n",
       "      <td>1.000000</td>\n",
       "      <td>0.000000</td>\n",
       "      <td>0.000000</td>\n",
       "      <td>0.000000</td>\n",
       "      <td>1745.000000</td>\n",
       "      <td>...</td>\n",
       "      <td>0.000000</td>\n",
       "      <td>0.000000</td>\n",
       "      <td>0.000000</td>\n",
       "      <td>0.000000</td>\n",
       "      <td>0.000000</td>\n",
       "      <td>0.000000</td>\n",
       "      <td>0.000000</td>\n",
       "      <td>0.000000</td>\n",
       "      <td>0.350000</td>\n",
       "      <td>529.000000</td>\n",
       "    </tr>\n",
       "    <tr>\n",
       "      <th>25%</th>\n",
       "      <td>29.000000</td>\n",
       "      <td>0.000000</td>\n",
       "      <td>177.250000</td>\n",
       "      <td>0.000000</td>\n",
       "      <td>0.000000</td>\n",
       "      <td>12.000000</td>\n",
       "      <td>2500.000000</td>\n",
       "      <td>1.000000</td>\n",
       "      <td>1.000000</td>\n",
       "      <td>4109.750000</td>\n",
       "      <td>...</td>\n",
       "      <td>0.000000</td>\n",
       "      <td>1553.500000</td>\n",
       "      <td>0.000000</td>\n",
       "      <td>1538.000000</td>\n",
       "      <td>0.000000</td>\n",
       "      <td>10.000000</td>\n",
       "      <td>0.000000</td>\n",
       "      <td>0.000000</td>\n",
       "      <td>2.890002</td>\n",
       "      <td>841.000000</td>\n",
       "    </tr>\n",
       "    <tr>\n",
       "      <th>50%</th>\n",
       "      <td>36.000000</td>\n",
       "      <td>0.000000</td>\n",
       "      <td>353.500000</td>\n",
       "      <td>0.000000</td>\n",
       "      <td>0.000000</td>\n",
       "      <td>12.000000</td>\n",
       "      <td>8250.000000</td>\n",
       "      <td>1.000000</td>\n",
       "      <td>1.000000</td>\n",
       "      <td>4620.000000</td>\n",
       "      <td>...</td>\n",
       "      <td>0.000000</td>\n",
       "      <td>2288.000000</td>\n",
       "      <td>0.000000</td>\n",
       "      <td>2275.000000</td>\n",
       "      <td>0.000000</td>\n",
       "      <td>17.000000</td>\n",
       "      <td>0.000000</td>\n",
       "      <td>9.000000</td>\n",
       "      <td>4.380000</td>\n",
       "      <td>1296.000000</td>\n",
       "    </tr>\n",
       "    <tr>\n",
       "      <th>75%</th>\n",
       "      <td>48.000000</td>\n",
       "      <td>0.000000</td>\n",
       "      <td>529.750000</td>\n",
       "      <td>0.182331</td>\n",
       "      <td>0.030075</td>\n",
       "      <td>16.000000</td>\n",
       "      <td>13750.000000</td>\n",
       "      <td>1.000000</td>\n",
       "      <td>1.000000</td>\n",
       "      <td>5203.750000</td>\n",
       "      <td>...</td>\n",
       "      <td>1.000000</td>\n",
       "      <td>2691.750000</td>\n",
       "      <td>0.000000</td>\n",
       "      <td>2635.500000</td>\n",
       "      <td>0.000000</td>\n",
       "      <td>30.000000</td>\n",
       "      <td>0.000000</td>\n",
       "      <td>20.000000</td>\n",
       "      <td>6.210001</td>\n",
       "      <td>2304.000000</td>\n",
       "    </tr>\n",
       "    <tr>\n",
       "      <th>max</th>\n",
       "      <td>65.000000</td>\n",
       "      <td>1.000000</td>\n",
       "      <td>706.000000</td>\n",
       "      <td>1.000000</td>\n",
       "      <td>1.000000</td>\n",
       "      <td>17.000000</td>\n",
       "      <td>42500.000000</td>\n",
       "      <td>1.000000</td>\n",
       "      <td>1.000000</td>\n",
       "      <td>7417.000000</td>\n",
       "      <td>...</td>\n",
       "      <td>1.000000</td>\n",
       "      <td>6415.000000</td>\n",
       "      <td>1.000000</td>\n",
       "      <td>6415.000000</td>\n",
       "      <td>1337.000000</td>\n",
       "      <td>55.000000</td>\n",
       "      <td>1.000000</td>\n",
       "      <td>43.000000</td>\n",
       "      <td>35.509990</td>\n",
       "      <td>4225.000000</td>\n",
       "    </tr>\n",
       "  </tbody>\n",
       "</table>\n",
       "<p>8 rows × 34 columns</p>\n",
       "</div>"
      ],
      "text/plain": [
       "              age       black        case    clerical    construc        educ  \\\n",
       "count  706.000000  706.000000  706.000000  706.000000  706.000000  706.000000   \n",
       "mean    38.815864    0.049575  353.500000    0.182331    0.030075   12.780453   \n",
       "std     11.342637    0.217219  203.948932    0.335413    0.148366    2.784702   \n",
       "min     23.000000    0.000000    1.000000    0.000000    0.000000    1.000000   \n",
       "25%     29.000000    0.000000  177.250000    0.000000    0.000000   12.000000   \n",
       "50%     36.000000    0.000000  353.500000    0.000000    0.000000   12.000000   \n",
       "75%     48.000000    0.000000  529.750000    0.182331    0.030075   16.000000   \n",
       "max     65.000000    1.000000  706.000000    1.000000    1.000000   17.000000   \n",
       "\n",
       "            earns74      gdhlth        inlf        leis1  ...     spwrk75  \\\n",
       "count    706.000000  706.000000  706.000000   706.000000  ...  706.000000   \n",
       "mean    9767.705382    0.890935    0.753541  4690.723796  ...    0.480170   \n",
       "std     9323.588151    0.311942    0.431254   908.049561  ...    0.499961   \n",
       "min        0.000000    0.000000    0.000000  1745.000000  ...    0.000000   \n",
       "25%     2500.000000    1.000000    1.000000  4109.750000  ...    0.000000   \n",
       "50%     8250.000000    1.000000    1.000000  4620.000000  ...    0.000000   \n",
       "75%    13750.000000    1.000000    1.000000  5203.750000  ...    1.000000   \n",
       "max    42500.000000    1.000000    1.000000  7417.000000  ...    1.000000   \n",
       "\n",
       "            totwrk       union      worknrm     workscnd       exper  \\\n",
       "count   706.000000  706.000000   706.000000   706.000000  706.000000   \n",
       "mean   2122.920680    0.218130  2093.252125    29.668555   20.035411   \n",
       "std     947.470123    0.413269   945.301457   148.834262   12.377520   \n",
       "min       0.000000    0.000000     0.000000     0.000000    0.000000   \n",
       "25%    1553.500000    0.000000  1538.000000     0.000000   10.000000   \n",
       "50%    2288.000000    0.000000  2275.000000     0.000000   17.000000   \n",
       "75%    2691.750000    0.000000  2635.500000     0.000000   30.000000   \n",
       "max    6415.000000    1.000000  6415.000000  1337.000000   55.000000   \n",
       "\n",
       "           yngkid     yrsmarr      hrwage        agesq  \n",
       "count  706.000000  706.000000  532.000000   706.000000  \n",
       "mean     0.128895   11.769122    5.082839  1635.144476  \n",
       "std      0.335321   11.591227    3.704385   950.102976  \n",
       "min      0.000000    0.000000    0.350000   529.000000  \n",
       "25%      0.000000    0.000000    2.890002   841.000000  \n",
       "50%      0.000000    9.000000    4.380000  1296.000000  \n",
       "75%      0.000000   20.000000    6.210001  2304.000000  \n",
       "max      1.000000   43.000000   35.509990  4225.000000  \n",
       "\n",
       "[8 rows x 34 columns]"
      ]
     },
     "execution_count": 7,
     "metadata": {},
     "output_type": "execute_result"
    }
   ],
   "source": [
    "df.describe()"
   ]
  },
  {
   "cell_type": "code",
   "execution_count": 8,
   "id": "f16daa9a-e660-4273-9c4d-b6a490d84835",
   "metadata": {},
   "outputs": [
    {
     "data": {
      "text/plain": [
       "age           0\n",
       "black         0\n",
       "case          0\n",
       "clerical      0\n",
       "construc      0\n",
       "educ          0\n",
       "earns74       0\n",
       "gdhlth        0\n",
       "inlf          0\n",
       "leis1         0\n",
       "leis2         0\n",
       "leis3         0\n",
       "smsa          0\n",
       "lhrwage     174\n",
       "lothinc       0\n",
       "male          0\n",
       "marr          0\n",
       "prot          0\n",
       "rlxall        0\n",
       "selfe         0\n",
       "sleep         0\n",
       "slpnaps       0\n",
       "south         0\n",
       "spsepay       0\n",
       "spwrk75       0\n",
       "totwrk        0\n",
       "union         0\n",
       "worknrm       0\n",
       "workscnd      0\n",
       "exper         0\n",
       "yngkid        0\n",
       "yrsmarr       0\n",
       "hrwage      174\n",
       "agesq         0\n",
       "dtype: int64"
      ]
     },
     "execution_count": 8,
     "metadata": {},
     "output_type": "execute_result"
    }
   ],
   "source": [
    "df.isna().sum()"
   ]
  },
  {
   "cell_type": "code",
   "execution_count": 9,
   "id": "4f1e1fc0-fb2b-4d1f-9d0d-ebde0720c8b9",
   "metadata": {},
   "outputs": [
    {
     "data": {
      "text/plain": [
       "0"
      ]
     },
     "execution_count": 9,
     "metadata": {},
     "output_type": "execute_result"
    }
   ],
   "source": [
    "df.duplicated().sum()"
   ]
  },
  {
   "cell_type": "code",
   "execution_count": 10,
   "id": "f7c7d178-782a-4678-830a-da5aa1f9273b",
   "metadata": {},
   "outputs": [
    {
     "data": {
      "text/plain": [
       "43"
      ]
     },
     "execution_count": 10,
     "metadata": {},
     "output_type": "execute_result"
    }
   ],
   "source": [
    "df[\"age\"].nunique()"
   ]
  },
  {
   "cell_type": "code",
   "execution_count": 11,
   "id": "1c9ab997-e603-4486-b620-cc0947410d98",
   "metadata": {},
   "outputs": [
    {
     "data": {
      "text/plain": [
       "age\n",
       "28    36\n",
       "32    33\n",
       "33    31\n",
       "27    27\n",
       "26    26\n",
       "24    26\n",
       "29    26\n",
       "44    26\n",
       "25    25\n",
       "31    24\n",
       "35    23\n",
       "30    22\n",
       "23    22\n",
       "39    21\n",
       "36    20\n",
       "50    18\n",
       "34    18\n",
       "37    18\n",
       "52    17\n",
       "40    16\n",
       "54    16\n",
       "56    15\n",
       "47    15\n",
       "38    14\n",
       "49    13\n",
       "45    12\n",
       "46    12\n",
       "42    12\n",
       "51    12\n",
       "43    11\n",
       "53    10\n",
       "48    10\n",
       "60    10\n",
       "58     9\n",
       "59     9\n",
       "55     9\n",
       "41     9\n",
       "62     8\n",
       "57     8\n",
       "61     6\n",
       "64     6\n",
       "65     3\n",
       "63     2\n",
       "Name: count, dtype: int64"
      ]
     },
     "execution_count": 11,
     "metadata": {},
     "output_type": "execute_result"
    }
   ],
   "source": [
    "df[\"age\"].value_counts()"
   ]
  },
  {
   "cell_type": "code",
   "execution_count": 12,
   "id": "3ee79692-2d3b-4d2d-8b82-ab4230ea7849",
   "metadata": {},
   "outputs": [
    {
     "data": {
      "text/plain": [
       "2"
      ]
     },
     "execution_count": 12,
     "metadata": {},
     "output_type": "execute_result"
    }
   ],
   "source": [
    "df[\"black\"].nunique()"
   ]
  },
  {
   "cell_type": "code",
   "execution_count": 13,
   "id": "e412669f-83f0-4f98-9e79-84c6d0f8a7af",
   "metadata": {},
   "outputs": [
    {
     "data": {
      "text/plain": [
       "black\n",
       "0    671\n",
       "1     35\n",
       "Name: count, dtype: int64"
      ]
     },
     "execution_count": 13,
     "metadata": {},
     "output_type": "execute_result"
    }
   ],
   "source": [
    "df[\"black\"].value_counts()"
   ]
  },
  {
   "cell_type": "code",
   "execution_count": 14,
   "id": "0b09d57e-4c3e-4cb0-8a0e-ad6e621975b6",
   "metadata": {},
   "outputs": [
    {
     "data": {
      "text/plain": [
       "706"
      ]
     },
     "execution_count": 14,
     "metadata": {},
     "output_type": "execute_result"
    }
   ],
   "source": [
    "df[\"case\"].nunique()"
   ]
  },
  {
   "cell_type": "code",
   "execution_count": 15,
   "id": "78950844-524e-4cd0-b29e-62250d2a7478",
   "metadata": {},
   "outputs": [
    {
     "data": {
      "text/plain": [
       "case\n",
       "1      1\n",
       "530    1\n",
       "466    1\n",
       "467    1\n",
       "468    1\n",
       "      ..\n",
       "238    1\n",
       "239    1\n",
       "240    1\n",
       "241    1\n",
       "706    1\n",
       "Name: count, Length: 706, dtype: int64"
      ]
     },
     "execution_count": 15,
     "metadata": {},
     "output_type": "execute_result"
    }
   ],
   "source": [
    "df[\"case\"].value_counts()"
   ]
  },
  {
   "cell_type": "code",
   "execution_count": 16,
   "id": "3198b13a-b4eb-446c-b555-9f238e482c7a",
   "metadata": {},
   "outputs": [
    {
     "data": {
      "text/plain": [
       "3"
      ]
     },
     "execution_count": 16,
     "metadata": {},
     "output_type": "execute_result"
    }
   ],
   "source": [
    "df[\"clerical\"].nunique()"
   ]
  },
  {
   "cell_type": "code",
   "execution_count": 17,
   "id": "34bcf4c6-1698-4f5f-8fa8-ed83db941bf4",
   "metadata": {},
   "outputs": [
    {
     "data": {
      "text/plain": [
       "clerical\n",
       "0.000000    435\n",
       "0.182331    174\n",
       "1.000000     97\n",
       "Name: count, dtype: int64"
      ]
     },
     "execution_count": 17,
     "metadata": {},
     "output_type": "execute_result"
    }
   ],
   "source": [
    "df[\"clerical\"].value_counts()"
   ]
  },
  {
   "cell_type": "code",
   "execution_count": 18,
   "id": "ecced2f4-54bb-4f61-9ccc-d008b63112f7",
   "metadata": {},
   "outputs": [
    {
     "data": {
      "text/plain": [
       "3"
      ]
     },
     "execution_count": 18,
     "metadata": {},
     "output_type": "execute_result"
    }
   ],
   "source": [
    "df[\"construc\"].nunique()"
   ]
  },
  {
   "cell_type": "code",
   "execution_count": 19,
   "id": "123e6ab7-22e7-4bfe-bdbf-8f8a9b9b24c1",
   "metadata": {},
   "outputs": [
    {
     "data": {
      "text/plain": [
       "construc\n",
       "0.000000    516\n",
       "0.030075    174\n",
       "1.000000     16\n",
       "Name: count, dtype: int64"
      ]
     },
     "execution_count": 19,
     "metadata": {},
     "output_type": "execute_result"
    }
   ],
   "source": [
    "df[\"construc\"].value_counts()"
   ]
  },
  {
   "cell_type": "code",
   "execution_count": 20,
   "id": "b2c9bcd1-5b29-4162-8e8b-709d47e8c8fe",
   "metadata": {},
   "outputs": [
    {
     "data": {
      "text/plain": [
       "15"
      ]
     },
     "execution_count": 20,
     "metadata": {},
     "output_type": "execute_result"
    }
   ],
   "source": [
    "df[\"educ\"].nunique()"
   ]
  },
  {
   "cell_type": "code",
   "execution_count": 21,
   "id": "0498e961-5d00-4c6c-992e-cc3cc8f78ca1",
   "metadata": {},
   "outputs": [
    {
     "data": {
      "text/plain": [
       "educ\n",
       "12    282\n",
       "16     96\n",
       "17     84\n",
       "14     49\n",
       "8      38\n",
       "10     34\n",
       "13     32\n",
       "11     31\n",
       "15     20\n",
       "9      19\n",
       "5       8\n",
       "7       6\n",
       "6       5\n",
       "4       1\n",
       "1       1\n",
       "Name: count, dtype: int64"
      ]
     },
     "execution_count": 21,
     "metadata": {},
     "output_type": "execute_result"
    }
   ],
   "source": [
    "df[\"educ\"].value_counts()"
   ]
  },
  {
   "cell_type": "code",
   "execution_count": 22,
   "id": "07496a63-11c5-4f8f-b520-26d9e726ea9e",
   "metadata": {},
   "outputs": [
    {
     "data": {
      "text/plain": [
       "19"
      ]
     },
     "execution_count": 22,
     "metadata": {},
     "output_type": "execute_result"
    }
   ],
   "source": [
    "df[\"earns74\"].nunique()"
   ]
  },
  {
   "cell_type": "code",
   "execution_count": 23,
   "id": "c3f388dc-b042-4fa3-9ad8-fbfd779159a3",
   "metadata": {},
   "outputs": [
    {
     "data": {
      "text/plain": [
       "earns74\n",
       "0        110\n",
       "13750     80\n",
       "6750      55\n",
       "8250      50\n",
       "16250     46\n",
       "1000      41\n",
       "9500      40\n",
       "10500     37\n",
       "2500      34\n",
       "4500      33\n",
       "5500      32\n",
       "11750     31\n",
       "18750     30\n",
       "42500     25\n",
       "3500      24\n",
       "21250     15\n",
       "27500     10\n",
       "32500      8\n",
       "23750      5\n",
       "Name: count, dtype: int64"
      ]
     },
     "execution_count": 23,
     "metadata": {},
     "output_type": "execute_result"
    }
   ],
   "source": [
    "df[\"earns74\"].value_counts()"
   ]
  },
  {
   "cell_type": "code",
   "execution_count": 24,
   "id": "3a973b70-dd5b-4705-9a83-041dc751ed5d",
   "metadata": {},
   "outputs": [
    {
     "data": {
      "text/plain": [
       "2"
      ]
     },
     "execution_count": 24,
     "metadata": {},
     "output_type": "execute_result"
    }
   ],
   "source": [
    "df[\"gdhlth\"].nunique()"
   ]
  },
  {
   "cell_type": "code",
   "execution_count": 25,
   "id": "b4624844-2635-4239-b3c2-606135d7d887",
   "metadata": {},
   "outputs": [
    {
     "data": {
      "text/plain": [
       "gdhlth\n",
       "1    629\n",
       "0     77\n",
       "Name: count, dtype: int64"
      ]
     },
     "execution_count": 25,
     "metadata": {},
     "output_type": "execute_result"
    }
   ],
   "source": [
    "df[\"gdhlth\"].value_counts()"
   ]
  },
  {
   "cell_type": "code",
   "execution_count": 26,
   "id": "dd0f1562-4ea9-48d7-b477-5b979360987f",
   "metadata": {},
   "outputs": [
    {
     "data": {
      "text/plain": [
       "2"
      ]
     },
     "execution_count": 26,
     "metadata": {},
     "output_type": "execute_result"
    }
   ],
   "source": [
    "df[\"inlf\"].nunique()"
   ]
  },
  {
   "cell_type": "code",
   "execution_count": 27,
   "id": "420612f8-d383-4678-9a7c-d055ed91040b",
   "metadata": {},
   "outputs": [
    {
     "data": {
      "text/plain": [
       "inlf\n",
       "1    532\n",
       "0    174\n",
       "Name: count, dtype: int64"
      ]
     },
     "execution_count": 27,
     "metadata": {},
     "output_type": "execute_result"
    }
   ],
   "source": [
    "df[\"inlf\"].value_counts()"
   ]
  },
  {
   "cell_type": "code",
   "execution_count": 28,
   "id": "c1df087e-d9d9-4072-a43d-9c713bbb378b",
   "metadata": {},
   "outputs": [
    {
     "data": {
      "text/plain": [
       "590"
      ]
     },
     "execution_count": 28,
     "metadata": {},
     "output_type": "execute_result"
    }
   ],
   "source": [
    "df[\"leis1\"].nunique()"
   ]
  },
  {
   "cell_type": "code",
   "execution_count": 29,
   "id": "f6806b6e-b01d-4b23-a6ca-6943a6a81d34",
   "metadata": {},
   "outputs": [
    {
     "data": {
      "text/plain": [
       "leis1\n",
       "5387    3\n",
       "4904    3\n",
       "4112    3\n",
       "4509    3\n",
       "4594    3\n",
       "       ..\n",
       "4429    1\n",
       "6630    1\n",
       "5666    1\n",
       "4382    1\n",
       "4747    1\n",
       "Name: count, Length: 590, dtype: int64"
      ]
     },
     "execution_count": 29,
     "metadata": {},
     "output_type": "execute_result"
    }
   ],
   "source": [
    "df[\"leis1\"].value_counts()"
   ]
  },
  {
   "cell_type": "code",
   "execution_count": 30,
   "id": "16a96f19-11bb-4b36-a6f8-06d0e1efff57",
   "metadata": {},
   "outputs": [
    {
     "data": {
      "text/plain": [
       "601"
      ]
     },
     "execution_count": 30,
     "metadata": {},
     "output_type": "execute_result"
    }
   ],
   "source": [
    "df[\"leis2\"].nunique()"
   ]
  },
  {
   "cell_type": "code",
   "execution_count": 31,
   "id": "28b7e3cb-d0f8-495c-ae80-78a2819d1a66",
   "metadata": {},
   "outputs": [
    {
     "data": {
      "text/plain": [
       "leis2\n",
       "4012    4\n",
       "4302    4\n",
       "4690    3\n",
       "5747    3\n",
       "3774    3\n",
       "       ..\n",
       "4723    1\n",
       "6520    1\n",
       "4754    1\n",
       "3132    1\n",
       "5119    1\n",
       "Name: count, Length: 601, dtype: int64"
      ]
     },
     "execution_count": 31,
     "metadata": {},
     "output_type": "execute_result"
    }
   ],
   "source": [
    "df[\"leis2\"].value_counts()"
   ]
  },
  {
   "cell_type": "code",
   "execution_count": 32,
   "id": "dca5582d-5829-44e9-920d-5484e82e3c94",
   "metadata": {},
   "outputs": [
    {
     "data": {
      "text/plain": [
       "595"
      ]
     },
     "execution_count": 32,
     "metadata": {},
     "output_type": "execute_result"
    }
   ],
   "source": [
    "df[\"leis3\"].nunique()"
   ]
  },
  {
   "cell_type": "code",
   "execution_count": 33,
   "id": "ddd2c889-04b1-4ed5-8e58-c9d1df1402fb",
   "metadata": {},
   "outputs": [
    {
     "data": {
      "text/plain": [
       "leis3\n",
       "4432    4\n",
       "4519    4\n",
       "3479    3\n",
       "3739    3\n",
       "4239    3\n",
       "       ..\n",
       "3852    1\n",
       "3184    1\n",
       "5100    1\n",
       "4869    1\n",
       "5031    1\n",
       "Name: count, Length: 595, dtype: int64"
      ]
     },
     "execution_count": 33,
     "metadata": {},
     "output_type": "execute_result"
    }
   ],
   "source": [
    "df[\"leis3\"].value_counts()"
   ]
  },
  {
   "cell_type": "code",
   "execution_count": 34,
   "id": "eeb81adf-6def-49be-9e37-f1ae1068ba61",
   "metadata": {},
   "outputs": [
    {
     "data": {
      "text/plain": [
       "2"
      ]
     },
     "execution_count": 34,
     "metadata": {},
     "output_type": "execute_result"
    }
   ],
   "source": [
    "df[\"smsa\"].nunique()"
   ]
  },
  {
   "cell_type": "code",
   "execution_count": 35,
   "id": "eb93a4f4-387a-4c4d-8917-6b23cd29f37c",
   "metadata": {},
   "outputs": [
    {
     "data": {
      "text/plain": [
       "smsa\n",
       "0    424\n",
       "1    282\n",
       "Name: count, dtype: int64"
      ]
     },
     "execution_count": 35,
     "metadata": {},
     "output_type": "execute_result"
    }
   ],
   "source": [
    "df[\"smsa\"].value_counts()"
   ]
  },
  {
   "cell_type": "code",
   "execution_count": 36,
   "id": "a8ec252c-747a-4429-9b9c-38aed2e64b19",
   "metadata": {},
   "outputs": [
    {
     "data": {
      "text/plain": [
       "252"
      ]
     },
     "execution_count": 36,
     "metadata": {},
     "output_type": "execute_result"
    }
   ],
   "source": [
    "df[\"lhrwage\"].nunique()"
   ]
  },
  {
   "cell_type": "code",
   "execution_count": 37,
   "id": "f4f4c3ce-59a4-4ec2-9c53-fb070d2d2b77",
   "metadata": {},
   "outputs": [
    {
     "data": {
      "text/plain": [
       "lhrwage\n",
       "1.752672    28\n",
       "1.530395    22\n",
       "1.241269    18\n",
       "0.837247    17\n",
       "1.061257    13\n",
       "            ..\n",
       "1.574847     1\n",
       "1.169381     1\n",
       "1.688249     1\n",
       "1.776646     1\n",
       "3.139400     1\n",
       "Name: count, Length: 252, dtype: int64"
      ]
     },
     "execution_count": 37,
     "metadata": {},
     "output_type": "execute_result"
    }
   ],
   "source": [
    "df[\"lhrwage\"].value_counts()"
   ]
  },
  {
   "cell_type": "code",
   "execution_count": 38,
   "id": "5a9782b6-a9b5-4501-805b-7c9d251c77d6",
   "metadata": {},
   "outputs": [
    {
     "data": {
      "text/plain": [
       "73"
      ]
     },
     "execution_count": 38,
     "metadata": {},
     "output_type": "execute_result"
    }
   ],
   "source": [
    "df[\"lothinc\"].nunique()"
   ]
  },
  {
   "cell_type": "code",
   "execution_count": 39,
   "id": "76bc803f-6ca7-4803-a85b-6ad9fad6ec73",
   "metadata": {},
   "outputs": [
    {
     "data": {
      "text/plain": [
       "lothinc\n",
       "0.000000     218\n",
       "8.517393      32\n",
       "9.528867      29\n",
       "7.824446      27\n",
       "8.922792      21\n",
       "            ... \n",
       "9.047939       1\n",
       "9.998843       1\n",
       "8.294300       1\n",
       "10.441470      1\n",
       "9.615872       1\n",
       "Name: count, Length: 73, dtype: int64"
      ]
     },
     "execution_count": 39,
     "metadata": {},
     "output_type": "execute_result"
    }
   ],
   "source": [
    "df[\"lothinc\"].value_counts()"
   ]
  },
  {
   "cell_type": "code",
   "execution_count": 40,
   "id": "be5d96ca-3d2e-4cac-8f1d-cc1d9f92d688",
   "metadata": {},
   "outputs": [
    {
     "data": {
      "text/plain": [
       "2"
      ]
     },
     "execution_count": 40,
     "metadata": {},
     "output_type": "execute_result"
    }
   ],
   "source": [
    "df[\"male\"].nunique()"
   ]
  },
  {
   "cell_type": "code",
   "execution_count": 41,
   "id": "47ae7d34-0daf-483e-b4b4-4be8fe0e8354",
   "metadata": {},
   "outputs": [
    {
     "data": {
      "text/plain": [
       "male\n",
       "1    400\n",
       "0    306\n",
       "Name: count, dtype: int64"
      ]
     },
     "execution_count": 41,
     "metadata": {},
     "output_type": "execute_result"
    }
   ],
   "source": [
    "df[\"male\"].value_counts()"
   ]
  },
  {
   "cell_type": "code",
   "execution_count": 42,
   "id": "181c62e4-f586-417d-8d70-0d9316188285",
   "metadata": {},
   "outputs": [
    {
     "data": {
      "text/plain": [
       "2"
      ]
     },
     "execution_count": 42,
     "metadata": {},
     "output_type": "execute_result"
    }
   ],
   "source": [
    "df[\"marr\"].nunique()"
   ]
  },
  {
   "cell_type": "code",
   "execution_count": 43,
   "id": "2dbc5509-01e1-4533-be60-805fc7dc37c4",
   "metadata": {},
   "outputs": [
    {
     "data": {
      "text/plain": [
       "marr\n",
       "1    580\n",
       "0    126\n",
       "Name: count, dtype: int64"
      ]
     },
     "execution_count": 43,
     "metadata": {},
     "output_type": "execute_result"
    }
   ],
   "source": [
    "df[\"marr\"].value_counts()"
   ]
  },
  {
   "cell_type": "code",
   "execution_count": 44,
   "id": "fd76a1ea-9733-4002-9fe7-d2c632d0ba43",
   "metadata": {},
   "outputs": [
    {
     "data": {
      "text/plain": [
       "2"
      ]
     },
     "execution_count": 44,
     "metadata": {},
     "output_type": "execute_result"
    }
   ],
   "source": [
    "df[\"prot\"].nunique()"
   ]
  },
  {
   "cell_type": "code",
   "execution_count": 45,
   "id": "689b8225-495a-47c8-baaf-a5b65a9ad1cc",
   "metadata": {},
   "outputs": [
    {
     "data": {
      "text/plain": [
       "prot\n",
       "1    468\n",
       "0    238\n",
       "Name: count, dtype: int64"
      ]
     },
     "execution_count": 45,
     "metadata": {},
     "output_type": "execute_result"
    }
   ],
   "source": [
    "df[\"prot\"].value_counts()"
   ]
  },
  {
   "cell_type": "code",
   "execution_count": 46,
   "id": "2e6cd916-b957-4f14-858b-3d8dda820921",
   "metadata": {},
   "outputs": [
    {
     "data": {
      "text/plain": [
       "511"
      ]
     },
     "execution_count": 46,
     "metadata": {},
     "output_type": "execute_result"
    }
   ],
   "source": [
    "df[\"rlxall\"].nunique()"
   ]
  },
  {
   "cell_type": "code",
   "execution_count": 47,
   "id": "051ff1ff-2436-4355-bfea-22387b6ff065",
   "metadata": {},
   "outputs": [
    {
     "data": {
      "text/plain": [
       "rlxall\n",
       "3533    5\n",
       "3270    5\n",
       "3298    5\n",
       "3278    4\n",
       "3730    4\n",
       "       ..\n",
       "3115    1\n",
       "3439    1\n",
       "3699    1\n",
       "3433    1\n",
       "3415    1\n",
       "Name: count, Length: 511, dtype: int64"
      ]
     },
     "execution_count": 47,
     "metadata": {},
     "output_type": "execute_result"
    }
   ],
   "source": [
    "df[\"rlxall\"].value_counts()"
   ]
  },
  {
   "cell_type": "code",
   "execution_count": 48,
   "id": "b4c9af46-1976-40ad-a5b6-6bb6facf5ee4",
   "metadata": {},
   "outputs": [
    {
     "data": {
      "text/plain": [
       "2"
      ]
     },
     "execution_count": 48,
     "metadata": {},
     "output_type": "execute_result"
    }
   ],
   "source": [
    "df[\"selfe\"].nunique()"
   ]
  },
  {
   "cell_type": "code",
   "execution_count": 49,
   "id": "192d1fd5-f32e-44bc-a79b-fb76bc4f5be1",
   "metadata": {},
   "outputs": [
    {
     "data": {
      "text/plain": [
       "selfe\n",
       "0    613\n",
       "1     93\n",
       "Name: count, dtype: int64"
      ]
     },
     "execution_count": 49,
     "metadata": {},
     "output_type": "execute_result"
    }
   ],
   "source": [
    "df[\"selfe\"].value_counts()"
   ]
  },
  {
   "cell_type": "code",
   "execution_count": 50,
   "id": "9cc5272e-2797-4bbb-8ede-a1f2f4503b88",
   "metadata": {},
   "outputs": [
    {
     "data": {
      "text/plain": [
       "449"
      ]
     },
     "execution_count": 50,
     "metadata": {},
     "output_type": "execute_result"
    }
   ],
   "source": [
    "df[\"sleep\"].nunique()"
   ]
  },
  {
   "cell_type": "code",
   "execution_count": 51,
   "id": "c93f4a91-9a9b-4fb3-9ba7-7300279e491f",
   "metadata": {},
   "outputs": [
    {
     "data": {
      "text/plain": [
       "sleep\n",
       "2985    6\n",
       "3405    6\n",
       "3308    6\n",
       "3218    6\n",
       "3150    6\n",
       "       ..\n",
       "3778    1\n",
       "3825    1\n",
       "3108    1\n",
       "3965    1\n",
       "3510    1\n",
       "Name: count, Length: 449, dtype: int64"
      ]
     },
     "execution_count": 51,
     "metadata": {},
     "output_type": "execute_result"
    }
   ],
   "source": [
    "df[\"sleep\"].value_counts()"
   ]
  },
  {
   "cell_type": "code",
   "execution_count": 52,
   "id": "95527e2d-b064-4c87-9b74-0615927b3fd9",
   "metadata": {},
   "outputs": [
    {
     "data": {
      "text/plain": [
       "490"
      ]
     },
     "execution_count": 52,
     "metadata": {},
     "output_type": "execute_result"
    }
   ],
   "source": [
    "df[\"slpnaps\"].nunique()"
   ]
  },
  {
   "cell_type": "code",
   "execution_count": 53,
   "id": "dcc13983-132f-411d-9022-a57e4e301686",
   "metadata": {},
   "outputs": [
    {
     "data": {
      "text/plain": [
       "slpnaps\n",
       "3390    5\n",
       "3330    5\n",
       "3278    5\n",
       "3650    4\n",
       "3203    4\n",
       "       ..\n",
       "3586    1\n",
       "3653    1\n",
       "3433    1\n",
       "3191    1\n",
       "3000    1\n",
       "Name: count, Length: 490, dtype: int64"
      ]
     },
     "execution_count": 53,
     "metadata": {},
     "output_type": "execute_result"
    }
   ],
   "source": [
    "df[\"slpnaps\"].value_counts()"
   ]
  },
  {
   "cell_type": "code",
   "execution_count": 54,
   "id": "338f63fe-3980-42b9-a524-ed8b887d961b",
   "metadata": {},
   "outputs": [
    {
     "data": {
      "text/plain": [
       "2"
      ]
     },
     "execution_count": 54,
     "metadata": {},
     "output_type": "execute_result"
    }
   ],
   "source": [
    "df[\"south\"].nunique()"
   ]
  },
  {
   "cell_type": "code",
   "execution_count": 55,
   "id": "c55d83db-fe56-42b4-b795-c6a4254bc251",
   "metadata": {},
   "outputs": [
    {
     "data": {
      "text/plain": [
       "south\n",
       "0    576\n",
       "1    130\n",
       "Name: count, dtype: int64"
      ]
     },
     "execution_count": 55,
     "metadata": {},
     "output_type": "execute_result"
    }
   ],
   "source": [
    "df[\"south\"].value_counts()"
   ]
  },
  {
   "cell_type": "code",
   "execution_count": 56,
   "id": "2062e61b-ccc5-4d21-bcc4-97e40567fe18",
   "metadata": {},
   "outputs": [
    {
     "data": {
      "text/plain": [
       "109"
      ]
     },
     "execution_count": 56,
     "metadata": {},
     "output_type": "execute_result"
    }
   ],
   "source": [
    "df[\"spsepay\"].nunique()"
   ]
  },
  {
   "cell_type": "code",
   "execution_count": 57,
   "id": "7555a96d-1e3c-42ab-bc74-825d2b150264",
   "metadata": {},
   "outputs": [
    {
     "data": {
      "text/plain": [
       "spsepay\n",
       "0        367\n",
       "12000     20\n",
       "6000      16\n",
       "11000     13\n",
       "9000      13\n",
       "        ... \n",
       "5600       1\n",
       "10500      1\n",
       "7950       1\n",
       "4750       1\n",
       "17500      1\n",
       "Name: count, Length: 109, dtype: int64"
      ]
     },
     "execution_count": 57,
     "metadata": {},
     "output_type": "execute_result"
    }
   ],
   "source": [
    "df[\"spsepay\"].value_counts()"
   ]
  },
  {
   "cell_type": "code",
   "execution_count": 58,
   "id": "e6b35293-3cdb-413b-8c8a-5104e52f0621",
   "metadata": {},
   "outputs": [
    {
     "data": {
      "text/plain": [
       "2"
      ]
     },
     "execution_count": 58,
     "metadata": {},
     "output_type": "execute_result"
    }
   ],
   "source": [
    "df[\"spwrk75\"].nunique()"
   ]
  },
  {
   "cell_type": "code",
   "execution_count": 59,
   "id": "47f508a0-467a-4626-a8c3-645b23e39ea2",
   "metadata": {},
   "outputs": [
    {
     "data": {
      "text/plain": [
       "spwrk75\n",
       "0    367\n",
       "1    339\n",
       "Name: count, dtype: int64"
      ]
     },
     "execution_count": 59,
     "metadata": {},
     "output_type": "execute_result"
    }
   ],
   "source": [
    "df[\"spwrk75\"].value_counts()"
   ]
  },
  {
   "cell_type": "code",
   "execution_count": 60,
   "id": "8f8164b2-a657-4222-b1f9-a614d89dcf0c",
   "metadata": {},
   "outputs": [
    {
     "data": {
      "text/plain": [
       "476"
      ]
     },
     "execution_count": 60,
     "metadata": {},
     "output_type": "execute_result"
    }
   ],
   "source": [
    "df[\"totwrk\"].nunique()"
   ]
  },
  {
   "cell_type": "code",
   "execution_count": 61,
   "id": "aa50add0-a5b0-41a6-99a0-259d7fb1ecd4",
   "metadata": {},
   "outputs": [
    {
     "data": {
      "text/plain": [
       "totwrk\n",
       "0       30\n",
       "2250     8\n",
       "2300     7\n",
       "2100     7\n",
       "2163     6\n",
       "        ..\n",
       "1075     1\n",
       "2743     1\n",
       "2592     1\n",
       "2140     1\n",
       "1961     1\n",
       "Name: count, Length: 476, dtype: int64"
      ]
     },
     "execution_count": 61,
     "metadata": {},
     "output_type": "execute_result"
    }
   ],
   "source": [
    "df[\"totwrk\"].value_counts()"
   ]
  },
  {
   "cell_type": "code",
   "execution_count": 62,
   "id": "760f4b82-7ba5-464e-892d-1f606db4f896",
   "metadata": {},
   "outputs": [
    {
     "data": {
      "text/plain": [
       "2"
      ]
     },
     "execution_count": 62,
     "metadata": {},
     "output_type": "execute_result"
    }
   ],
   "source": [
    "df[\"union\"].nunique()"
   ]
  },
  {
   "cell_type": "code",
   "execution_count": 63,
   "id": "deed02a3-497d-4f25-826c-7cdc4cba9810",
   "metadata": {},
   "outputs": [
    {
     "data": {
      "text/plain": [
       "union\n",
       "0    552\n",
       "1    154\n",
       "Name: count, dtype: int64"
      ]
     },
     "execution_count": 63,
     "metadata": {},
     "output_type": "execute_result"
    }
   ],
   "source": [
    "df[\"union\"].value_counts()"
   ]
  },
  {
   "cell_type": "code",
   "execution_count": 64,
   "id": "f6f9d340-d29e-46fd-80ed-eedbd4146d2b",
   "metadata": {},
   "outputs": [
    {
     "data": {
      "text/plain": [
       "37"
      ]
     },
     "execution_count": 64,
     "metadata": {},
     "output_type": "execute_result"
    }
   ],
   "source": [
    "df[\"workscnd\"].nunique()"
   ]
  },
  {
   "cell_type": "code",
   "execution_count": 65,
   "id": "86e3c095-0c04-48ac-a115-11a8e2c87a53",
   "metadata": {},
   "outputs": [
    {
     "data": {
      "text/plain": [
       "workscnd\n",
       "0       659\n",
       "375       3\n",
       "75        3\n",
       "210       2\n",
       "60        2\n",
       "50        2\n",
       "1050      2\n",
       "600       2\n",
       "630       2\n",
       "480       2\n",
       "825       1\n",
       "1190      1\n",
       "2         1\n",
       "63        1\n",
       "1138      1\n",
       "40        1\n",
       "300       1\n",
       "925       1\n",
       "450       1\n",
       "308       1\n",
       "117       1\n",
       "1063      1\n",
       "150       1\n",
       "238       1\n",
       "218       1\n",
       "55        1\n",
       "900       1\n",
       "1337      1\n",
       "1205      1\n",
       "390       1\n",
       "875       1\n",
       "405       1\n",
       "233       1\n",
       "38        1\n",
       "350       1\n",
       "538       1\n",
       "83        1\n",
       "Name: count, dtype: int64"
      ]
     },
     "execution_count": 65,
     "metadata": {},
     "output_type": "execute_result"
    }
   ],
   "source": [
    "df[\"workscnd\"].value_counts()"
   ]
  },
  {
   "cell_type": "code",
   "execution_count": 66,
   "id": "da649c09-cc01-47b5-85c8-e5881fcdd0e4",
   "metadata": {},
   "outputs": [
    {
     "data": {
      "text/plain": [
       "53"
      ]
     },
     "execution_count": 66,
     "metadata": {},
     "output_type": "execute_result"
    }
   ],
   "source": [
    "df[\"exper\"].nunique()"
   ]
  },
  {
   "cell_type": "code",
   "execution_count": 67,
   "id": "9307e192-1920-469a-ab26-92a02618fda9",
   "metadata": {},
   "outputs": [
    {
     "data": {
      "text/plain": [
       "exper\n",
       "10    40\n",
       "14    29\n",
       "17    28\n",
       "8     26\n",
       "11    25\n",
       "6     25\n",
       "5     24\n",
       "7     23\n",
       "13    23\n",
       "31    21\n",
       "18    21\n",
       "9     20\n",
       "22    20\n",
       "12    19\n",
       "29    19\n",
       "21    17\n",
       "34    17\n",
       "32    16\n",
       "16    15\n",
       "2     14\n",
       "26    14\n",
       "19    14\n",
       "15    14\n",
       "36    14\n",
       "37    13\n",
       "23    13\n",
       "20    13\n",
       "25    12\n",
       "30    12\n",
       "4     11\n",
       "39    10\n",
       "1     10\n",
       "24    10\n",
       "35     9\n",
       "38     8\n",
       "3      8\n",
       "42     8\n",
       "33     8\n",
       "41     8\n",
       "40     7\n",
       "27     7\n",
       "44     7\n",
       "43     7\n",
       "28     6\n",
       "48     5\n",
       "46     4\n",
       "45     3\n",
       "47     3\n",
       "52     2\n",
       "0      1\n",
       "55     1\n",
       "54     1\n",
       "49     1\n",
       "Name: count, dtype: int64"
      ]
     },
     "execution_count": 67,
     "metadata": {},
     "output_type": "execute_result"
    }
   ],
   "source": [
    "df[\"exper\"].value_counts()"
   ]
  },
  {
   "cell_type": "code",
   "execution_count": 68,
   "id": "df095b31-70a5-4a83-832a-116a4e4b1209",
   "metadata": {},
   "outputs": [
    {
     "data": {
      "text/plain": [
       "2"
      ]
     },
     "execution_count": 68,
     "metadata": {},
     "output_type": "execute_result"
    }
   ],
   "source": [
    "df[\"yngkid\"].nunique()"
   ]
  },
  {
   "cell_type": "code",
   "execution_count": 69,
   "id": "8a6917d0-6da4-4db9-b757-9ec184972c34",
   "metadata": {},
   "outputs": [
    {
     "data": {
      "text/plain": [
       "yngkid\n",
       "0    615\n",
       "1     91\n",
       "Name: count, dtype: int64"
      ]
     },
     "execution_count": 69,
     "metadata": {},
     "output_type": "execute_result"
    }
   ],
   "source": [
    "df[\"yngkid\"].value_counts()"
   ]
  },
  {
   "cell_type": "code",
   "execution_count": 70,
   "id": "df2c3d69-cede-41f1-90bb-f527cabfb8ce",
   "metadata": {},
   "outputs": [
    {
     "data": {
      "text/plain": [
       "43"
      ]
     },
     "execution_count": 70,
     "metadata": {},
     "output_type": "execute_result"
    }
   ],
   "source": [
    "df[\"yrsmarr\"].nunique()"
   ]
  },
  {
   "cell_type": "code",
   "execution_count": 71,
   "id": "cfc50846-97dd-45b1-844a-b5bbad06d4ae",
   "metadata": {},
   "outputs": [
    {
     "data": {
      "text/plain": [
       "yrsmarr\n",
       "0     191\n",
       "4      32\n",
       "5      29\n",
       "9      25\n",
       "7      24\n",
       "22     20\n",
       "10     20\n",
       "2      19\n",
       "14     18\n",
       "18     18\n",
       "6      17\n",
       "16     17\n",
       "17     16\n",
       "8      15\n",
       "15     15\n",
       "12     14\n",
       "27     14\n",
       "13     13\n",
       "3      13\n",
       "19     13\n",
       "24     12\n",
       "26     11\n",
       "23     10\n",
       "29     10\n",
       "1      10\n",
       "30      9\n",
       "11      9\n",
       "28      9\n",
       "25      9\n",
       "20      8\n",
       "32      8\n",
       "35      8\n",
       "36      7\n",
       "31      6\n",
       "38      6\n",
       "34      6\n",
       "37      5\n",
       "39      5\n",
       "33      5\n",
       "21      4\n",
       "42      2\n",
       "41      2\n",
       "43      2\n",
       "Name: count, dtype: int64"
      ]
     },
     "execution_count": 71,
     "metadata": {},
     "output_type": "execute_result"
    }
   ],
   "source": [
    "df[\"yrsmarr\"].value_counts()"
   ]
  },
  {
   "cell_type": "code",
   "execution_count": 72,
   "id": "4510f17d-2386-43fd-85e0-b2f6795165ef",
   "metadata": {},
   "outputs": [
    {
     "data": {
      "text/plain": [
       "252"
      ]
     },
     "execution_count": 72,
     "metadata": {},
     "output_type": "execute_result"
    }
   ],
   "source": [
    "df[\"hrwage\"].nunique()"
   ]
  },
  {
   "cell_type": "code",
   "execution_count": 73,
   "id": "287376b4-43e9-4dca-b601-933a3890ce5f",
   "metadata": {},
   "outputs": [
    {
     "data": {
      "text/plain": [
       "hrwage\n",
       "5.770000     28\n",
       "4.620001     22\n",
       "3.460001     18\n",
       "2.309999     17\n",
       "2.890002     13\n",
       "             ..\n",
       "4.830002      1\n",
       "3.219999      1\n",
       "5.409999      1\n",
       "5.910001      1\n",
       "23.090010     1\n",
       "Name: count, Length: 252, dtype: int64"
      ]
     },
     "execution_count": 73,
     "metadata": {},
     "output_type": "execute_result"
    }
   ],
   "source": [
    "df[\"hrwage\"].value_counts()"
   ]
  },
  {
   "cell_type": "code",
   "execution_count": 74,
   "id": "c2f9bc9d-6503-4b50-b2c2-2a5bdc14caba",
   "metadata": {},
   "outputs": [
    {
     "data": {
      "text/plain": [
       "43"
      ]
     },
     "execution_count": 74,
     "metadata": {},
     "output_type": "execute_result"
    }
   ],
   "source": [
    "df[\"agesq\"].nunique()"
   ]
  },
  {
   "cell_type": "code",
   "execution_count": 75,
   "id": "08c155e7-43d2-4858-ac18-662b43307e92",
   "metadata": {},
   "outputs": [
    {
     "data": {
      "text/plain": [
       "agesq\n",
       "784     36\n",
       "1024    33\n",
       "1089    31\n",
       "729     27\n",
       "676     26\n",
       "576     26\n",
       "841     26\n",
       "1936    26\n",
       "625     25\n",
       "961     24\n",
       "1225    23\n",
       "900     22\n",
       "529     22\n",
       "1521    21\n",
       "1296    20\n",
       "2500    18\n",
       "1156    18\n",
       "1369    18\n",
       "2704    17\n",
       "1600    16\n",
       "2916    16\n",
       "3136    15\n",
       "2209    15\n",
       "1444    14\n",
       "2401    13\n",
       "2025    12\n",
       "2116    12\n",
       "1764    12\n",
       "2601    12\n",
       "1849    11\n",
       "2809    10\n",
       "2304    10\n",
       "3600    10\n",
       "3364     9\n",
       "3481     9\n",
       "3025     9\n",
       "1681     9\n",
       "3844     8\n",
       "3249     8\n",
       "3721     6\n",
       "4096     6\n",
       "4225     3\n",
       "3969     2\n",
       "Name: count, dtype: int64"
      ]
     },
     "execution_count": 75,
     "metadata": {},
     "output_type": "execute_result"
    }
   ],
   "source": [
    "df[\"agesq\"].value_counts()"
   ]
  },
  {
   "cell_type": "markdown",
   "id": "46b14daa-4bd7-4dc8-b4fd-283adf075158",
   "metadata": {},
   "source": [
    "### *Data Cleaning*"
   ]
  },
  {
   "cell_type": "markdown",
   "id": "2e454444-e64b-49f5-8780-2873008b08eb",
   "metadata": {},
   "source": [
    "**Rename all the necessary columns**"
   ]
  },
  {
   "cell_type": "code",
   "execution_count": 78,
   "id": "7cd417d5-d2a8-4deb-a1e5-ea7337041c49",
   "metadata": {},
   "outputs": [],
   "source": [
    "df.rename(columns={'case': 'record_id'}, inplace=True)\n",
    "df.rename(columns={'clerical': 'clerical_worker'}, inplace=True)\n",
    "df.rename(columns={'construc': 'construction_Worker'}, inplace=True)\n",
    "df.rename(columns={'educ': 'education'}, inplace=True)\n",
    "df.rename(columns={'earns74': 'earns_1974'}, inplace=True)\n",
    "df.rename(columns={'gdhlth': 'good_health'}, inplace=True)\n",
    "df.rename(columns={'inlf': 'labour_force'}, inplace=True)\n",
    "df.rename(columns={'leis1': 'effeciency'}, inplace=True)\n",
    "df.rename(columns={'leis2': 'total_sleep'}, inplace=True)\n",
    "df.rename(columns={'leis3': 'free_time'}, inplace=True)\n",
    "df.rename(columns={'smsa': 'smsa_area'}, inplace=True)\n",
    "df.rename(columns={'lhrwage': 'log_hr_wage'}, inplace=True)\n",
    "df.rename(columns={'lothinc': 'log_other_income'}, inplace=True)\n",
    "df.rename(columns={'marr': 'marital_status'}, inplace=True)\n",
    "df.rename(columns={'prot': 'protestant'}, inplace=True)\n",
    "df.rename(columns={'rlxall': 'relax_time'}, inplace=True)\n",
    "df.rename(columns={'selfe': 'self_employed'}, inplace=True)\n",
    "df.rename(columns={'slpnaps': 'sleep_week'}, inplace=True)\n",
    "df.rename(columns={'spsepay': 'spouse_income'}, inplace=True)\n",
    "df.rename(columns={'spwrk75': 'spouse_works'}, inplace=True)\n",
    "df.rename(columns={'totwrk': 'totwrk_hr'}, inplace=True)\n",
    "df.rename(columns={'union': 'labour_union'}, inplace=True)\n",
    "df.rename(columns={'worknrm': 'main_job_wrork_time'}, inplace=True)\n",
    "df.rename(columns={'workscnd': 'Worked_second'}, inplace=True)\n",
    "df.rename(columns={'exper': 'experience'}, inplace=True)\n",
    "df.rename(columns={'yngkid': 'young_kid'}, inplace=True)\n",
    "df.rename(columns={'yrsmarr': 'years_married'}, inplace=True)\n",
    "df.rename(columns={'hrwage': 'hourly_wage'}, inplace=True)\n",
    "df.rename(columns={'agesq': 'age_squared'}, inplace=True)"
   ]
  },
  {
   "cell_type": "markdown",
   "id": "6ce55c9e-39e5-4a18-807f-b91ab0e54f66",
   "metadata": {},
   "source": [
    "**Creating a new column name nap per week in minutes**"
   ]
  },
  {
   "cell_type": "code",
   "execution_count": 81,
   "id": "7a9c7f23-e8de-4552-8fab-db1389ee422d",
   "metadata": {},
   "outputs": [],
   "source": [
    "df['nap_per_week_hour'] = df['sleep_week'] - df['sleep']"
   ]
  },
  {
   "cell_type": "code",
   "execution_count": 82,
   "id": "568af01a-f2a1-4e7c-b2cb-b29c7fde3670",
   "metadata": {},
   "outputs": [
    {
     "data": {
      "text/plain": [
       "['age',\n",
       " 'black',\n",
       " 'record_id',\n",
       " 'clerical_worker',\n",
       " 'construction_Worker',\n",
       " 'education',\n",
       " 'earns_1974',\n",
       " 'good_health',\n",
       " 'labour_force',\n",
       " 'effeciency',\n",
       " 'total_sleep',\n",
       " 'free_time',\n",
       " 'smsa_area',\n",
       " 'log_hr_wage',\n",
       " 'log_other_income',\n",
       " 'male',\n",
       " 'marital_status',\n",
       " 'protestant',\n",
       " 'relax_time',\n",
       " 'self_employed',\n",
       " 'sleep',\n",
       " 'sleep_week',\n",
       " 'south',\n",
       " 'spouse_income',\n",
       " 'spouse_works',\n",
       " 'totwrk_hr',\n",
       " 'labour_union',\n",
       " 'main_job_wrork_time',\n",
       " 'Worked_second',\n",
       " 'experience',\n",
       " 'young_kid',\n",
       " 'years_married',\n",
       " 'hourly_wage',\n",
       " 'age_squared',\n",
       " 'nap_per_week_hour']"
      ]
     },
     "execution_count": 82,
     "metadata": {},
     "output_type": "execute_result"
    }
   ],
   "source": [
    "df.columns.tolist()"
   ]
  },
  {
   "cell_type": "code",
   "execution_count": 84,
   "id": "d25ba60a-5128-47bd-8b43-e623de30c330",
   "metadata": {},
   "outputs": [
    {
     "data": {
      "text/plain": [
       "nap_per_week_hour\n",
       "0      352\n",
       "60      32\n",
       "150     23\n",
       "120     16\n",
       "90      15\n",
       "      ... \n",
       "117      1\n",
       "555      1\n",
       "338      1\n",
       "871      1\n",
       "445      1\n",
       "Name: count, Length: 143, dtype: int64"
      ]
     },
     "execution_count": 84,
     "metadata": {},
     "output_type": "execute_result"
    }
   ],
   "source": [
    "df[\"nap_per_week_hour\"].value_counts()"
   ]
  },
  {
   "cell_type": "markdown",
   "id": "3eddace2-7cf1-4c38-8f8e-24e43d02df67",
   "metadata": {},
   "source": [
    "**Treating the wrong data type**"
   ]
  },
  {
   "cell_type": "code",
   "execution_count": 86,
   "id": "5f13ecad-e30f-41a4-a1aa-65e8d939cf24",
   "metadata": {},
   "outputs": [],
   "source": [
    "df['clerical_worker'] = df['clerical_worker'].round().astype(int)\n",
    "df['construction_Worker'] = df['clerical_worker'].round().astype(int)"
   ]
  },
  {
   "cell_type": "markdown",
   "id": "4675ad22-08e5-4438-9569-8ddd89a20b71",
   "metadata": {},
   "source": [
    "**Converting the colums with values 0 and 1 to yes and no**"
   ]
  },
  {
   "cell_type": "code",
   "execution_count": 87,
   "id": "bc15f60c-b0c4-405d-b372-54c49de8cdf4",
   "metadata": {},
   "outputs": [],
   "source": [
    "df['black'].replace({0: 'No', 1: 'Yes'}, inplace=True)\n",
    "df['good_health'].replace({0: 'No', 1: 'Yes'}, inplace=True)\n",
    "df['labour_force'].replace({0: 'No', 1: 'Yes'}, inplace=True)\n",
    "df['smsa_area'].replace({0: 'No', 1: 'Yes'}, inplace=True)\n",
    "df['male'].replace({0: 'No', 1: 'Yes'}, inplace=True)\n",
    "df['marital_status'].replace({0: 'No', 1: 'Yes'}, inplace=True)\n",
    "df['protestant'].replace({0: 'No', 1: 'Yes'}, inplace=True)\n",
    "df['self_employed'].replace({0: 'No', 1: 'Yes'}, inplace=True)\n",
    "df['south'].replace({0: 'No', 1: 'Yes'}, inplace=True)\n",
    "df['spouse_works'].replace({0: 'No', 1: 'Yes'}, inplace=True)\n",
    "df['labour_union'].replace({0: 'No', 1: 'Yes'}, inplace=True)\n",
    "df['young_kid'].replace({0: 'No', 1: 'Yes'}, inplace=True) \n",
    "df['clerical_worker'].replace({0: 'No', 1: 'Yes'}, inplace=True) \n",
    "df['construction_Worker'].replace({0: 'No', 1: 'Yes'}, inplace=True) "
   ]
  },
  {
   "cell_type": "markdown",
   "id": "26307215-af87-4024-b18d-8f9ecb9a3f9c",
   "metadata": {},
   "source": [
    "**Handle the missing values**"
   ]
  },
  {
   "cell_type": "code",
   "execution_count": 88,
   "id": "8822788d-fac2-43c5-aab9-8084529da5f2",
   "metadata": {},
   "outputs": [
    {
     "data": {
      "text/plain": [
       "age                      0\n",
       "black                    0\n",
       "record_id                0\n",
       "clerical_worker          0\n",
       "construction_Worker      0\n",
       "education                0\n",
       "earns_1974               0\n",
       "good_health              0\n",
       "labour_force             0\n",
       "effeciency               0\n",
       "total_sleep              0\n",
       "free_time                0\n",
       "smsa_area                0\n",
       "log_hr_wage            174\n",
       "log_other_income         0\n",
       "male                     0\n",
       "marital_status           0\n",
       "protestant               0\n",
       "relax_time               0\n",
       "self_employed            0\n",
       "sleep                    0\n",
       "sleep_week               0\n",
       "south                    0\n",
       "spouse_income            0\n",
       "spouse_works             0\n",
       "totwrk_hr                0\n",
       "labour_union             0\n",
       "main_job_wrork_time      0\n",
       "Worked_second            0\n",
       "experience               0\n",
       "young_kid                0\n",
       "years_married            0\n",
       "hourly_wage            174\n",
       "age_squared              0\n",
       "nap_per_week_hour        0\n",
       "dtype: int64"
      ]
     },
     "execution_count": 88,
     "metadata": {},
     "output_type": "execute_result"
    }
   ],
   "source": [
    "df.isnull().sum()"
   ]
  },
  {
   "cell_type": "code",
   "execution_count": 89,
   "id": "c8c06f92-2407-4717-8aea-ce0b43f77793",
   "metadata": {},
   "outputs": [
    {
     "data": {
      "text/plain": [
       "-0.2834052165092851"
      ]
     },
     "execution_count": 89,
     "metadata": {},
     "output_type": "execute_result"
    }
   ],
   "source": [
    "df['log_hr_wage'].skew()"
   ]
  },
  {
   "cell_type": "code",
   "execution_count": 90,
   "id": "d5e0769f-19f3-44f9-889a-56c4d69fc424",
   "metadata": {},
   "outputs": [],
   "source": [
    "# -0.5 < Skew < 0.5: Approximately symmetric \n",
    "df['log_hr_wage'] = df['log_hr_wage'].fillna(df['log_hr_wage'].mean())"
   ]
  },
  {
   "cell_type": "code",
   "execution_count": 91,
   "id": "bf2c6ea9-891f-4935-8e2d-184ffe230a8a",
   "metadata": {},
   "outputs": [
    {
     "data": {
      "text/plain": [
       "3.363292037418263"
      ]
     },
     "execution_count": 91,
     "metadata": {},
     "output_type": "execute_result"
    }
   ],
   "source": [
    "df['hourly_wage'].skew()"
   ]
  },
  {
   "cell_type": "code",
   "execution_count": 92,
   "id": "61c5c7a9-a3f4-4425-baf5-e43387138f94",
   "metadata": {},
   "outputs": [],
   "source": [
    "df['hourly_wage'].fillna(df['hourly_wage'].median(), inplace=True)"
   ]
  },
  {
   "cell_type": "code",
   "execution_count": 93,
   "id": "21c7dad3-8ef6-4c45-87c2-2cfa38c87edf",
   "metadata": {},
   "outputs": [
    {
     "data": {
      "text/plain": [
       "age                    0\n",
       "black                  0\n",
       "record_id              0\n",
       "clerical_worker        0\n",
       "construction_Worker    0\n",
       "education              0\n",
       "earns_1974             0\n",
       "good_health            0\n",
       "labour_force           0\n",
       "effeciency             0\n",
       "total_sleep            0\n",
       "free_time              0\n",
       "smsa_area              0\n",
       "log_hr_wage            0\n",
       "log_other_income       0\n",
       "male                   0\n",
       "marital_status         0\n",
       "protestant             0\n",
       "relax_time             0\n",
       "self_employed          0\n",
       "sleep                  0\n",
       "sleep_week             0\n",
       "south                  0\n",
       "spouse_income          0\n",
       "spouse_works           0\n",
       "totwrk_hr              0\n",
       "labour_union           0\n",
       "main_job_wrork_time    0\n",
       "Worked_second          0\n",
       "experience             0\n",
       "young_kid              0\n",
       "years_married          0\n",
       "hourly_wage            0\n",
       "age_squared            0\n",
       "nap_per_week_hour      0\n",
       "dtype: int64"
      ]
     },
     "execution_count": 93,
     "metadata": {},
     "output_type": "execute_result"
    }
   ],
   "source": [
    "df.isnull().sum()"
   ]
  },
  {
   "cell_type": "markdown",
   "id": "ce15d2d1-a2dd-457f-bb23-4ebe893e74ee",
   "metadata": {},
   "source": [
    "**Converting minutes to hour**"
   ]
  },
  {
   "cell_type": "code",
   "execution_count": 94,
   "id": "929c10a0-4aaa-40f3-9857-351cd4782ba2",
   "metadata": {},
   "outputs": [
    {
     "data": {
      "text/plain": [
       "nap_per_week_hour\n",
       "0      352\n",
       "60      32\n",
       "150     23\n",
       "120     16\n",
       "90      15\n",
       "      ... \n",
       "117      1\n",
       "555      1\n",
       "338      1\n",
       "871      1\n",
       "445      1\n",
       "Name: count, Length: 143, dtype: int64"
      ]
     },
     "execution_count": 94,
     "metadata": {},
     "output_type": "execute_result"
    }
   ],
   "source": [
    "df[\"nap_per_week_hour\"].value_counts()"
   ]
  },
  {
   "cell_type": "code",
   "execution_count": 95,
   "id": "48631baa-5013-4785-903f-8b540aae77f9",
   "metadata": {},
   "outputs": [],
   "source": [
    "df['effeciency'] = df['effeciency'] / 60 \n",
    "df['total_sleep'] = df['total_sleep'] / 60 \n",
    "df['free_time'] = df['free_time'] / 60 \n",
    "df['relax_time'] = df['relax_time'] / 60 \n",
    "df['sleep'] = df['sleep'] / 60 \n",
    "df['sleep_week'] = df['sleep'] / 60 \n",
    "df['totwrk_hr'] = df['totwrk_hr'] / 60\n",
    "df['main_job_wrork_time'] = df['main_job_wrork_time'] / 60\n",
    "df['Worked_second'] = df['Worked_second'] / 60\n",
    "df['nap_per_week_hour'] = df['nap_per_week_hour'] / 60"
   ]
  },
  {
   "cell_type": "code",
   "execution_count": 96,
   "id": "b42b41c1-56c8-4c16-b036-17168e11b0a8",
   "metadata": {},
   "outputs": [
    {
     "data": {
      "text/plain": [
       "nap_per_week_hour\n",
       "0.000000     352\n",
       "1.000000      32\n",
       "2.500000      23\n",
       "2.000000      16\n",
       "1.500000      15\n",
       "            ... \n",
       "1.950000       1\n",
       "9.250000       1\n",
       "5.633333       1\n",
       "14.516667      1\n",
       "7.416667       1\n",
       "Name: count, Length: 143, dtype: int64"
      ]
     },
     "execution_count": 96,
     "metadata": {},
     "output_type": "execute_result"
    }
   ],
   "source": [
    "df[\"nap_per_week_hour\"].value_counts()"
   ]
  },
  {
   "cell_type": "code",
   "execution_count": 97,
   "id": "c7534239-1a13-4043-baff-8c6857de5b3d",
   "metadata": {},
   "outputs": [],
   "source": [
    "# Exporting cleaned data for backup\n",
    "df.to_csv('cleaned_sleep_data.csv', index=False)"
   ]
  },
  {
   "cell_type": "code",
   "execution_count": null,
   "id": "af07a9c4-3926-4a23-8f40-2a14972be10f",
   "metadata": {},
   "outputs": [],
   "source": []
  },
  {
   "cell_type": "code",
   "execution_count": null,
   "id": "12f1745f-398a-47c0-ad3e-7d598c419d3a",
   "metadata": {},
   "outputs": [],
   "source": []
  },
  {
   "cell_type": "code",
   "execution_count": null,
   "id": "4fcdd9dd-41e1-4e72-9977-64a615e49414",
   "metadata": {},
   "outputs": [],
   "source": [
    "df['clerical'] = df['clerical'].round().astype(int)\n",
    "df['construction_Worker'] = df['construction_Worker'].round().astype(int)"
   ]
  },
  {
   "cell_type": "code",
   "execution_count": null,
   "id": "60ecd516-df5b-4fc7-97cf-f67068eb23c0",
   "metadata": {},
   "outputs": [],
   "source": []
  },
  {
   "cell_type": "code",
   "execution_count": null,
   "id": "64e44a73-f711-4cc1-8c8d-d97adbe6b1fc",
   "metadata": {},
   "outputs": [],
   "source": [
    "df['black'].replace({0: 'No', 1: 'Yes'}, inplace=True)\n",
    "df['good_health'].replace({0: 'No', 1: 'Yes'}, inplace=True)\n",
    "df['inlf'].replace({0: 'No', 1: 'Yes'}, inplace=True)\n",
    "df['male'].replace({0: 'No', 1: 'Yes'}, inplace=True)\n",
    "df['Marital_status'].replace({0: 'No', 1: 'Yes'}, inplace=True)\n",
    "df['selfe'].replace({0: 'No', 1: 'Yes'}, inplace=True)\n",
    "df['south'].replace({0: 'No', 1: 'Yes'}, inplace=True)\n",
    "df['spouse_works'].replace({0: 'No', 1: 'Yes'}, inplace=True)\n",
    "df['spouse_works'].replace({0: 'No', 1: 'Yes'}, inplace=True)\n",
    "df['worknrm'].replace({0: 'No', 1: 'Yes'}, inplace=True)\n",
    "df['young_kid'].replace({0: 'No', 1: 'Yes'}, inplace=True) \n",
    "df['clerical'].replace({0: 'No', 1: 'Yes'}, inplace=True) \n",
    "df['construction_Worker'].replace({0: 'No', 1: 'Yes'}, inplace=True)"
   ]
  },
  {
   "cell_type": "code",
   "execution_count": null,
   "id": "8e95f945-a6a1-4358-a254-2296229fc366",
   "metadata": {},
   "outputs": [],
   "source": [
    "df.head()"
   ]
  },
  {
   "cell_type": "markdown",
   "id": "aaa563ea-5ad5-4f02-9db5-ac7a3b7b157b",
   "metadata": {},
   "source": [
    "### *Data Analysis*"
   ]
  },
  {
   "cell_type": "code",
   "execution_count": null,
   "id": "dd6a10f8-3e45-464e-a154-aea66bdda9a9",
   "metadata": {},
   "outputs": [],
   "source": [
    "# What is the age distribution of individuals?"
   ]
  },
  {
   "cell_type": "code",
   "execution_count": null,
   "id": "2206463f-e372-4211-831c-50037cd7f237",
   "metadata": {},
   "outputs": [],
   "source": [
    "plt.figure(figsize=(8, 5))\n",
    "sns.histplot(data=df, x='age', kde=True, color='royalblue', bins=30)\n",
    "\n",
    "plt.title('Age Distribution', fontsize=16)\n",
    "plt.xlabel('Age')\n",
    "plt.ylabel('Count')\n",
    "plt.show()"
   ]
  },
  {
   "cell_type": "code",
   "execution_count": null,
   "id": "e5cc58bb-bb0c-4d84-bd3f-c229632a7908",
   "metadata": {},
   "outputs": [],
   "source": [
    "# How many individuals report good health vs poor health?"
   ]
  },
  {
   "cell_type": "code",
   "execution_count": null,
   "id": "9d749a24-391f-489d-a09d-63eb8afe0d33",
   "metadata": {},
   "outputs": [],
   "source": [
    "plt.figure(figsize=(6, 4))\n",
    "sns.countplot(data=df, x='good_health', palette='viridis')\n",
    "\n",
    "plt.title('Health Status Distribution', fontsize=16)\n",
    "plt.xlabel('Good Health (1=Yes, 0=No)')\n",
    "plt.ylabel('Count')\n",
    "plt.show()"
   ]
  },
  {
   "cell_type": "code",
   "execution_count": null,
   "id": "cecb8f54-695b-4ae6-9393-582988ad759d",
   "metadata": {},
   "outputs": [],
   "source": [
    "# What is the distribution of total leisure time?"
   ]
  },
  {
   "cell_type": "code",
   "execution_count": null,
   "id": "87ce3657-b9fb-4e90-aba8-7d8e84914360",
   "metadata": {},
   "outputs": [],
   "source": [
    "plt.figure(figsize=(8, 5))\n",
    "sns.histplot(data=df, x='total_leisure_time', kde=True, color='mediumseagreen', bins=30)\n",
    "\n",
    "plt.title('Total Leisure Time Distribution', fontsize=16)\n",
    "plt.xlabel('Leisure Time (hours)')\n",
    "plt.ylabel('Frequency')\n",
    "plt.show()"
   ]
  },
  {
   "cell_type": "code",
   "execution_count": null,
   "id": "e9c310f4-270f-433f-a177-fc2b928573f9",
   "metadata": {},
   "outputs": [],
   "source": [
    "# What is the average amount of sleep hours (sleep)?"
   ]
  },
  {
   "cell_type": "code",
   "execution_count": null,
   "id": "3c7b1996-5373-415b-8ae3-966f4cd4b048",
   "metadata": {},
   "outputs": [],
   "source": [
    "plt.figure(figsize=(8, 5))\n",
    "sns.histplot(data=df, x='sleep', kde=True, color='mediumpurple', bins=30)\n",
    "\n",
    "plt.axvline(df['sleep'].mean(), color='red', linestyle='--', label=f\"Mean: {df['sleep'].mean():.2f} hrs\")\n",
    "\n",
    "plt.title('Sleep Duration Distribution', fontsize=16)\n",
    "plt.xlabel('Sleep Duration (hours)')\n",
    "plt.ylabel('Frequency')\n",
    "plt.legend()\n",
    "plt.savefig('Sleep_Duration.png', dpi=300, bbox_inches='tight')\n",
    "plt.show()"
   ]
  },
  {
   "cell_type": "code",
   "execution_count": null,
   "id": "148904de-b286-43f3-9a07-c94da36d5ca3",
   "metadata": {},
   "outputs": [],
   "source": [
    "# What is the distribution of hourly_wage and log_hr_wage?"
   ]
  },
  {
   "cell_type": "code",
   "execution_count": null,
   "id": "c9426218-b62d-44a0-a7cf-25ee62454638",
   "metadata": {},
   "outputs": [],
   "source": [
    "plt.figure(figsize=(8, 5))\n",
    "sns.histplot(data=df, x='hourly_wage', kde=True, color='goldenrod', bins=30)\n",
    "\n",
    "plt.title('Hourly Wage Distribution', fontsize=16)\n",
    "plt.xlabel('Hourly Wage ($)')\n",
    "plt.ylabel('Frequency')\n",
    "plt.show()"
   ]
  },
  {
   "cell_type": "code",
   "execution_count": null,
   "id": "bace0ba8-5fff-4201-84c7-9354da5dbdfe",
   "metadata": {},
   "outputs": [],
   "source": [
    "# How is marital status distributed (Married, Single, etc.)?"
   ]
  },
  {
   "cell_type": "code",
   "execution_count": null,
   "id": "3df87140-ae9a-4ca0-bb4b-4c85a6851fef",
   "metadata": {},
   "outputs": [],
   "source": [
    "plt.figure(figsize=(6, 4))\n",
    "sns.countplot(data=df, x='Marital_status', palette='plasma')\n",
    "\n",
    "plt.title('Marital Status Distribution', fontsize=16)\n",
    "plt.xlabel('Marital Status')\n",
    "plt.ylabel('Count')\n",
    "plt.show()"
   ]
  },
  {
   "cell_type": "code",
   "execution_count": null,
   "id": "20c5beda-ef64-4eec-b574-ee273d406d23",
   "metadata": {},
   "outputs": [],
   "source": [
    "# What percentage are male vs female?"
   ]
  },
  {
   "cell_type": "code",
   "execution_count": null,
   "id": "632359fb-6787-415e-bd75-990919f46ef2",
   "metadata": {},
   "outputs": [],
   "source": [
    "plt.figure(figsize=(6, 4))\n",
    "sns.countplot(data=df, x='male', palette='coolwarm')\n",
    "\n",
    "plt.title('Gender Distribution', fontsize=16)\n",
    "plt.xlabel('Male')\n",
    "plt.ylabel('Count')\n",
    "plt.show()"
   ]
  },
  {
   "cell_type": "code",
   "execution_count": null,
   "id": "56e4aaf5-bcab-4972-abbe-ba73675b5682",
   "metadata": {},
   "outputs": [],
   "source": [
    "# How many individuals have young kids (young_kid)?"
   ]
  },
  {
   "cell_type": "code",
   "execution_count": null,
   "id": "e928194c-63ea-4ee4-9dc3-3406484bcbf3",
   "metadata": {},
   "outputs": [],
   "source": [
    "plt.figure(figsize=(6, 4))\n",
    "sns.countplot(data=df, x='young_kid', palette='cividis')\n",
    "\n",
    "plt.title('Young Kids in Family', fontsize=16)\n",
    "plt.xlabel('Has Young Kid')\n",
    "plt.ylabel('Count')\n",
    "plt.show()"
   ]
  },
  {
   "cell_type": "code",
   "execution_count": null,
   "id": "c29d65a5-5824-4715-8090-4e92692494a3",
   "metadata": {},
   "outputs": [],
   "source": [
    "# How many people work in clerical, construction, etc.?"
   ]
  },
  {
   "cell_type": "code",
   "execution_count": null,
   "id": "db2acee0-74f1-441a-9ad8-4400d63f10d2",
   "metadata": {},
   "outputs": [],
   "source": [
    "# Let's assume clerical and construc are binary 1/0 columns\n",
    "\n",
    "fig, axes = plt.subplots(1, 2, figsize=(12, 5))\n",
    "\n",
    "sns.countplot(data=df, x='clerical', palette='BuGn_r', ax=axes[0])\n",
    "axes[0].set_title('Clerical Workers')\n",
    "axes[0].set_xlabel('Clerical')\n",
    "axes[0].set_ylabel('Count')\n",
    "\n",
    "sns.countplot(data=df, x='construction_Worker', palette='OrRd_r', ax=axes[1])\n",
    "axes[1].set_title('Construction Workers')\n",
    "axes[1].set_xlabel('Construction')\n",
    "axes[1].set_ylabel('Count')\n",
    "\n",
    "plt.tight_layout()\n",
    "plt.show()"
   ]
  },
  {
   "cell_type": "markdown",
   "id": "33290456-5fea-456b-9db4-5fb63c9839f8",
   "metadata": {},
   "source": [
    "*Bivariate Analysis (Two Column Relationship Analysis)*"
   ]
  },
  {
   "cell_type": "code",
   "execution_count": null,
   "id": "e8e87439-91c0-4841-bd93-ebb1196de5ce",
   "metadata": {},
   "outputs": [],
   "source": [
    "# Does age affect sleep duration?"
   ]
  },
  {
   "cell_type": "code",
   "execution_count": null,
   "id": "a3fbc1e0-0178-4f41-aa01-780e11fc7b26",
   "metadata": {},
   "outputs": [],
   "source": [
    "plt.figure(figsize=(8,6))\n",
    "sns.scatterplot(x='age', y='sleep', data=df, palette='coolwarm', alpha=0.5, edgecolor=None)\n",
    "plt.title('Relationship between Age and Sleep Duration', fontsize=14)\n",
    "plt.xlabel('Age')\n",
    "plt.ylabel('Sleep (hours per week)')\n",
    "plt.grid(True)\n",
    "plt.show()"
   ]
  },
  {
   "cell_type": "code",
   "execution_count": null,
   "id": "8c6ba61d-9f9e-4623-a73b-f223c16096b1",
   "metadata": {},
   "outputs": [],
   "source": [
    "# Is there a difference in sleep time between males and females?"
   ]
  },
  {
   "cell_type": "code",
   "execution_count": null,
   "id": "afcc88a5-f448-40a6-a61e-6380b1d578cd",
   "metadata": {},
   "outputs": [],
   "source": [
    "plt.figure(figsize=(8,6))\n",
    "sns.boxplot(x='male', y='sleep', data=df, palette='Set2')\n",
    "plt.title('Comparison of Sleep Time between Males and Females', fontsize=14)\n",
    "plt.xlabel('Gender (0 = Female, 1 = Male)')\n",
    "plt.ylabel('Sleep (minutes per week)')\n",
    "plt.grid(True, linestyle='--', alpha=0.7)\n",
    "plt.show()"
   ]
  },
  {
   "cell_type": "code",
   "execution_count": null,
   "id": "d0ddc803-1031-4c7a-80dc-eaf1577bdd5a",
   "metadata": {},
   "outputs": [],
   "source": [
    "# Does good_health status influence total leisure time?"
   ]
  },
  {
   "cell_type": "code",
   "execution_count": null,
   "id": "96eec0d4-5210-4ff2-8b4c-99535acedee4",
   "metadata": {},
   "outputs": [],
   "source": [
    "plt.figure(figsize=(8,6))\n",
    "sns.boxplot(x='good_health', y='total_leisure_time', data=df, palette='pastel')\n",
    "plt.title('Impact of Good Health on Total Leisure Time', fontsize=14)\n",
    "plt.xlabel('Good Health Status (0 = No, 1 = Yes)')\n",
    "plt.ylabel('Total Leisure Time (minutes per week)')\n",
    "plt.grid(True, linestyle='--', alpha=0.6)\n",
    "plt.show()"
   ]
  },
  {
   "cell_type": "code",
   "execution_count": null,
   "id": "368550d1-1c51-4a3c-be66-bc2ef6773207",
   "metadata": {},
   "outputs": [],
   "source": [
    "# How does marital status relate to sleep duration?"
   ]
  },
  {
   "cell_type": "code",
   "execution_count": null,
   "id": "428edee7-530b-4088-a878-1d0e166d3b20",
   "metadata": {},
   "outputs": [],
   "source": [
    "plt.figure(figsize=(8,6))\n",
    "sns.boxplot(x='Marital_status', y='sleep', data=df, palette='cool')\n",
    "plt.title('Effect of Marital Status on Sleep Duration', fontsize=14)\n",
    "plt.xlabel('Marital Status (0 = Not Married, 1 = Married)')\n",
    "plt.ylabel('Sleep (minutes per week)')\n",
    "plt.grid(True, linestyle='--', alpha=0.6)\n",
    "plt.show()"
   ]
  },
  {
   "cell_type": "code",
   "execution_count": null,
   "id": "e1bbfa04-661d-4a6d-aa83-e5d0ffaac028",
   "metadata": {},
   "outputs": [],
   "source": [
    "# Does education level impact hourly_wage?"
   ]
  },
  {
   "cell_type": "code",
   "execution_count": null,
   "id": "2009ec45-5d9f-4799-8cd3-57095b02841c",
   "metadata": {},
   "outputs": [],
   "source": [
    "plt.figure(figsize=(8,6))\n",
    "sns.scatterplot(x='education', y='hourly_wage', data=df, palette='viridis', alpha=0.7, edgecolor=None)\n",
    "plt.title('Impact of Education Level on Hourly Wage', fontsize=14)\n",
    "plt.xlabel('Years of Education')\n",
    "plt.ylabel('Hourly Wage')\n",
    "plt.grid(True, linestyle='--', alpha=0.6)\n",
    "plt.show()"
   ]
  },
  {
   "cell_type": "code",
   "execution_count": null,
   "id": "71308780-2711-414b-9104-a390d762816b",
   "metadata": {},
   "outputs": [],
   "source": [
    "# Is there a correlation between experience and total work hours (totwrk_hr)?"
   ]
  },
  {
   "cell_type": "code",
   "execution_count": null,
   "id": "c59dae55-db77-49e1-9ee3-39922d8d0bd4",
   "metadata": {},
   "outputs": [],
   "source": [
    " # Scatter plot for experience vs total work hours\n",
    "plt.figure(figsize=(8,6))\n",
    "sns.scatterplot(x='experience', y='totwrk_hr', data=df, palette='magma', alpha=0.7, edgecolor=None)\n",
    "plt.title('Correlation between Experience and Total Work Hours', fontsize=14)\n",
    "plt.xlabel('Experience (years)')\n",
    "plt.ylabel('Total Work Hours per week')\n",
    "plt.grid(True, linestyle='--', alpha=0.6)\n",
    "plt.show()\n",
    "\n",
    "# Correlation heatmap for all numerical variables\n",
    "plt.figure(figsize=(10,8))\n",
    "corr = df[['experience', 'totwrk_hr', 'age', 'education', 'hourly_wage']].corr()\n",
    "sns.heatmap(corr, annot=True, cmap='coolwarm', fmt='.2f', linewidths=1, linecolor='white')\n",
    "plt.title('Correlation Heatmap between Experience and Other Variables', fontsize=14)\n",
    "plt.show()"
   ]
  },
  {
   "cell_type": "code",
   "execution_count": null,
   "id": "d7a5baca-6d5c-4224-87b5-9db80f17b155",
   "metadata": {},
   "outputs": [],
   "source": [
    "# Do people in union jobs earn higher hourly_wages?"
   ]
  },
  {
   "cell_type": "code",
   "execution_count": null,
   "id": "3bd5c416-e3ca-4028-bc23-0e58ba4fce62",
   "metadata": {},
   "outputs": [],
   "source": [
    "plt.figure(figsize=(8,6))\n",
    "sns.boxplot(x='union', y='hourly_wage', data=df, palette='coolwarm')\n",
    "plt.title('Hourly Wage Comparison: Union vs Non-Union Jobs', fontsize=14)\n",
    "plt.xlabel('Union Membership (0 = No, 1 = Yes)')\n",
    "plt.ylabel('Hourly Wage')\n",
    "plt.grid(True, linestyle='--', alpha=0.6)\n",
    "plt.show()"
   ]
  },
  {
   "cell_type": "code",
   "execution_count": null,
   "id": "aeec8862-8112-4e67-87aa-e1dfe89462dc",
   "metadata": {},
   "outputs": [],
   "source": [
    "# How does having a young kid affect sleep duration?"
   ]
  },
  {
   "cell_type": "code",
   "execution_count": null,
   "id": "883f0a5b-13bf-4427-9551-7c3e8fde8836",
   "metadata": {},
   "outputs": [],
   "source": [
    "plt.figure(figsize=(8,6))\n",
    "sns.boxplot(x='young_kid', y='sleep', data=df, palette='Set1')\n",
    "plt.title('Impact of Having a Young Kid on Sleep Duration', fontsize=14)\n",
    "plt.xlabel('Young Kid (0 = No, 1 = Yes)')\n",
    "plt.ylabel('Sleep (minutes per week)')\n",
    "plt.grid(True, linestyle='--', alpha=0.6)\n",
    "plt.show()"
   ]
  },
  {
   "cell_type": "code",
   "execution_count": null,
   "id": "97ee956b-7693-4e51-a40b-2ccc84440baf",
   "metadata": {},
   "outputs": [],
   "source": [
    "# Does working a second job (Worked_second) impact sleep?"
   ]
  },
  {
   "cell_type": "code",
   "execution_count": null,
   "id": "72b380a8-f83e-4b5f-900c-910fc768e99d",
   "metadata": {},
   "outputs": [],
   "source": [
    "plt.figure(figsize=(8,6))\n",
    "\n",
    "# Bar plot to compare mean sleep duration for those who work a second job vs. those who don't\n",
    "sns.barplot(x='Worked_second', y='sleep', data=df, palette='Blues', ci=None)\n",
    "\n",
    "# Rotate x-axis labels for better readability\n",
    "plt.xticks(rotation=45, ha='right')\n",
    "\n",
    "plt.title('Impact of Working a Second Job on Sleep Duration', fontsize=14)\n",
    "plt.xlabel('Worked Second Job (0 = No, 1 = Yes)')\n",
    "plt.ylabel('Average Sleep (minutes per week)')\n",
    "plt.grid(True, linestyle='--', alpha=0.6)\n",
    "plt.show()"
   ]
  },
  {
   "cell_type": "markdown",
   "id": "d1f9d4eb-88e8-47c2-a3b3-11a163697fe6",
   "metadata": {},
   "source": [
    "*Multivariate Analysis (Multtliple Columns Together)*"
   ]
  },
  {
   "cell_type": "code",
   "execution_count": null,
   "id": "ca2f42b0-b021-44c0-a317-5413ae0ba4f7",
   "metadata": {},
   "outputs": [],
   "source": [
    "# How does age, gender, and marital status together impact sleep duration?"
   ]
  },
  {
   "cell_type": "code",
   "execution_count": null,
   "id": "0dba0c8c-8b06-4a6a-a3a5-9387b8de73ac",
   "metadata": {},
   "outputs": [],
   "source": [
    "import matplotlib.pyplot as plt\n",
    "import seaborn as sns\n",
    "\n",
    "# Create an age group column to better visualize the relationship with age\n",
    "df['age_group'] = pd.cut(df['age'], bins=[20, 30, 40, 50, 60, 70, 80], \n",
    "                         labels=['20-30', '30-40', '40-50', '50-60', '60-70', '70-80'])\n",
    "\n",
    "# Set up a grid to visualize the impact of age, male (gender), and marital status on sleep duration\n",
    "g = sns.FacetGrid(df, col=\"male\", row=\"Marital_status\", margin_titles=True, height=5)\n",
    "\n",
    "# Explicitly pass the data and hue\n",
    "g.map(sns.scatterplot, 'age', 'sleep', alpha=0.6, hue='age_group', palette='coolwarm', legend=True)\n",
    "\n",
    "# Adjust labels, title, and other formatting\n",
    "g.set_axis_labels(\"Age\", \"Sleep (minutes per week)\")\n",
    "g.set_titles(row_template=\"{row_name}\", col_template=\"{col_name}\")\n",
    "plt.subplots_adjust(top=0.9)  # Adjust the title spacing\n",
    "g.fig.suptitle(\"Impact of Age, Gender (Male), and Marital Status on Sleep Duration\", fontsize=16)\n",
    "\n",
    "# Handle the hue legend\n",
    "g.add_legend(title=\"Age Group\")\n",
    "\n",
    "plt.show()\n"
   ]
  },
  {
   "cell_type": "code",
   "execution_count": null,
   "id": "d7bdf7b4-2479-4672-b933-5ce4cfe3b16e",
   "metadata": {},
   "outputs": [],
   "source": [
    "# What is the combined effect of experience and education on hourly wage?"
   ]
  },
  {
   "cell_type": "code",
   "execution_count": null,
   "id": "640c263a-5948-4561-b3b6-b4af5858a2f1",
   "metadata": {},
   "outputs": [],
   "source": [
    "# How do health status, leisure time, and work hours together impact sleep?"
   ]
  },
  {
   "cell_type": "code",
   "execution_count": null,
   "id": "d79d7678-f8f9-4fb8-bfa4-fe32d075e5e2",
   "metadata": {},
   "outputs": [],
   "source": [
    "# How does spouse working (spouse_works) and spouse income affect individual's sleep and work hours?"
   ]
  },
  {
   "cell_type": "code",
   "execution_count": null,
   "id": "f50e70cf-1802-4622-8905-72621b49851c",
   "metadata": {},
   "outputs": [],
   "source": [
    "# Is there a difference in sleep patterns across regions (south, smsa)?"
   ]
  },
  {
   "cell_type": "code",
   "execution_count": null,
   "id": "845bf065-2038-4f90-9fa5-8afeb55b0acc",
   "metadata": {},
   "outputs": [],
   "source": []
  },
  {
   "cell_type": "code",
   "execution_count": null,
   "id": "7dcf9cce-574f-46a8-a25a-c5a657751f2d",
   "metadata": {},
   "outputs": [],
   "source": []
  },
  {
   "cell_type": "code",
   "execution_count": null,
   "id": "ab555cb1-3ce9-4205-a9c8-c8121710f445",
   "metadata": {},
   "outputs": [],
   "source": []
  },
  {
   "cell_type": "code",
   "execution_count": null,
   "id": "0cf4cb28-0898-4b46-a9f5-faa526bfc54b",
   "metadata": {},
   "outputs": [],
   "source": []
  },
  {
   "cell_type": "code",
   "execution_count": null,
   "id": "a063a8a0-1faf-4612-80c6-61c4202ef72b",
   "metadata": {},
   "outputs": [],
   "source": []
  },
  {
   "cell_type": "code",
   "execution_count": null,
   "id": "8ae7258c-681c-4875-ad36-7edc2936fa55",
   "metadata": {},
   "outputs": [],
   "source": []
  },
  {
   "cell_type": "code",
   "execution_count": null,
   "id": "b0b74d8f-00ea-4ba0-95ea-2e3c7973861f",
   "metadata": {},
   "outputs": [],
   "source": []
  },
  {
   "cell_type": "code",
   "execution_count": null,
   "id": "99b5893c-1b5b-4cd9-9030-8512f900c493",
   "metadata": {},
   "outputs": [],
   "source": []
  },
  {
   "cell_type": "code",
   "execution_count": null,
   "id": "109c805e-aeb4-4bf0-bc3a-426dbfbd5d0f",
   "metadata": {},
   "outputs": [],
   "source": []
  },
  {
   "cell_type": "code",
   "execution_count": null,
   "id": "e3d4b4ca-6042-4c26-a5b0-a237969b2d5d",
   "metadata": {},
   "outputs": [],
   "source": []
  },
  {
   "cell_type": "code",
   "execution_count": null,
   "id": "bc263527-00ff-4da8-8572-6fe18baf568f",
   "metadata": {},
   "outputs": [],
   "source": []
  },
  {
   "cell_type": "code",
   "execution_count": null,
   "id": "99d6c11e-8e3a-45a8-944c-8d53a034d877",
   "metadata": {},
   "outputs": [],
   "source": []
  },
  {
   "cell_type": "code",
   "execution_count": null,
   "id": "35f3bd5b-06cd-405e-a213-ce3b1c4dd742",
   "metadata": {},
   "outputs": [],
   "source": []
  },
  {
   "cell_type": "code",
   "execution_count": null,
   "id": "b0600631-dbab-4b57-a644-30f8a460f692",
   "metadata": {},
   "outputs": [],
   "source": []
  },
  {
   "cell_type": "code",
   "execution_count": null,
   "id": "65a22869-836a-47de-8e8e-106d0a00b843",
   "metadata": {},
   "outputs": [],
   "source": []
  },
  {
   "cell_type": "code",
   "execution_count": null,
   "id": "e1b92fe5-cb7a-483b-9ab6-f766ead48efb",
   "metadata": {},
   "outputs": [],
   "source": []
  },
  {
   "cell_type": "code",
   "execution_count": null,
   "id": "db468d74-f45f-46bf-b690-0690f70e83c1",
   "metadata": {},
   "outputs": [],
   "source": []
  }
 ],
 "metadata": {
  "kernelspec": {
   "display_name": "Python 3 (ipykernel)",
   "language": "python",
   "name": "python3"
  },
  "language_info": {
   "codemirror_mode": {
    "name": "ipython",
    "version": 3
   },
   "file_extension": ".py",
   "mimetype": "text/x-python",
   "name": "python",
   "nbconvert_exporter": "python",
   "pygments_lexer": "ipython3",
   "version": "3.12.7"
  }
 },
 "nbformat": 4,
 "nbformat_minor": 5
}
